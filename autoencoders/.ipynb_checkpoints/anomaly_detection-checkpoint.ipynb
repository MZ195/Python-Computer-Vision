{
 "cells": [
  {
   "cell_type": "markdown",
   "id": "345c6317-93d1-4911-8d2d-d2f58b871817",
   "metadata": {},
   "source": [
    "# Anomaly detection using Autoencoders"
   ]
  },
  {
   "cell_type": "code",
   "execution_count": 1,
   "id": "7773fc6f-2303-4770-9482-cce4a1e07055",
   "metadata": {},
   "outputs": [],
   "source": [
    "import pandas as pd\n",
    "import numpy as np\n",
    "import tensorflow as tf\n",
    "import matplotlib.pyplot as plt\n",
    "import seaborn as sns\n",
    "from sklearn.model_selection import train_test_split\n",
    "from sklearn.preprocessing import StandardScaler\n",
    "from sklearn.metrics import confusion_matrix, recall_score, accuracy_score, precision_score"
   ]
  },
  {
   "cell_type": "code",
   "execution_count": 2,
   "id": "7c66c11e-70a1-481f-beea-9ebacfaf25c7",
   "metadata": {},
   "outputs": [],
   "source": [
    "RANDOM_SEED = 2021 \n",
    "TEST_PCT = 0.3\n",
    "LABELS = [\"Normal\",\"Fraud\"]"
   ]
  },
  {
   "cell_type": "code",
   "execution_count": 3,
   "id": "67780746-0ed6-4eca-9481-d7e7e6151d5e",
   "metadata": {},
   "outputs": [],
   "source": [
    "dataset = pd.read_csv(\"creditcard.csv\")"
   ]
  },
  {
   "cell_type": "code",
   "execution_count": 4,
   "id": "96ab29ae-6215-402b-a853-346be8450839",
   "metadata": {},
   "outputs": [
    {
     "name": "stdout",
     "output_type": "stream",
     "text": [
      "Any nulls in the dataset  False\n",
      "-------\n",
      "No. of unique labels  2\n",
      "Label values  [0 1]\n",
      "-------\n",
      "Break down of the Normal and Fraud Transactions\n",
      "0    284315\n",
      "1       492\n",
      "Name: Class, dtype: int64\n"
     ]
    }
   ],
   "source": [
    "#check for any  nullvalues \n",
    "print(\"Any nulls in the dataset \",dataset.isnull().values.any())\n",
    "print('-------')\n",
    "print(\"No. of unique labels \", len(dataset['Class'].unique()))\n",
    "print(\"Label values \",dataset.Class.unique())\n",
    "#0 is for normal credit card transaction\n",
    "#1 is for fraudulent credit card transaction\n",
    "print('-------')\n",
    "print(\"Break down of the Normal and Fraud Transactions\")\n",
    "print(pd.value_counts(dataset['Class'], sort = True) )"
   ]
  },
  {
   "cell_type": "code",
   "execution_count": 5,
   "id": "e8513cb2-d16b-4562-b695-87f165b6111e",
   "metadata": {},
   "outputs": [
    {
     "data": {
      "image/png": "[encoded data removed]",
      "text/plain": [
       "<Figure size 432x288 with 1 Axes>"
      ]
     },
     "metadata": {
      "needs_background": "light"
     },
     "output_type": "display_data"
    }
   ],
   "source": [
    "# Save the normal and fradulent transactions in separate dataframe\n",
    "normal_dataset = dataset[dataset.Class == 0] \n",
    "fraud_dataset = dataset[dataset.Class == 1]\n",
    "\n",
    "#Visualize transactionamounts for normal and fraudulent transactions\n",
    "bins = np.linspace(200, 2500, 100)\n",
    "plt.hist(normal_dataset.Amount, bins=bins, alpha=1, density=True, label='Normal')\n",
    "plt.hist(fraud_dataset.Amount, bins=bins, alpha=0.5, density=True, label='Fraud')\n",
    "plt.legend(loc='upper right')\n",
    "plt.title(\"Transaction amount vs Percentage of transactions\")\n",
    "plt.xlabel(\"Transaction amount (USD)\")\n",
    "plt.ylabel(\"Percentage of transactions\");\n",
    "plt.show()"
   ]
  },
  {
   "cell_type": "code",
   "execution_count": 6,
   "id": "fc61cee7-a88b-4a69-ae85-183084488317",
   "metadata": {},
   "outputs": [],
   "source": [
    "sc=StandardScaler()\n",
    "dataset['Time'] = sc.fit_transform(dataset['Time'].values.reshape(-1, 1))\n",
    "dataset['Amount'] = sc.fit_transform(dataset['Amount'].values.reshape(-1, 1))"
   ]
  },
  {
   "cell_type": "code",
   "execution_count": 7,
   "id": "3a79ef3c-b30c-4cff-9764-791f85adc40a",
   "metadata": {},
   "outputs": [],
   "source": [
    "raw_data = dataset.values\n",
    "# The last element contains if the transaction is normal which is represented by a 0 and if fraud then 1\n",
    "labels = raw_data[:, -1]\n",
    "# The other data points are the electrocadriogram data\n",
    "data = raw_data[:, 0:-1]\n",
    "train_data, test_data, train_labels, test_labels = train_test_split(\n",
    "    data, labels, test_size=TEST_PCT, random_state=RANDOM_SEED\n",
    ")"
   ]
  },
  {
   "cell_type": "code",
   "execution_count": 8,
   "id": "f3e01be8-d77b-4668-8743-183b300c54be",
   "metadata": {},
   "outputs": [],
   "source": [
    "min_val = tf.reduce_min(train_data)\n",
    "max_val = tf.reduce_max(train_data)\n",
    "train_data = (train_data - min_val) / (max_val - min_val)\n",
    "test_data = (test_data - min_val) / (max_val - min_val)\n",
    "train_data = tf.cast(train_data, tf.float32)\n",
    "test_data = tf.cast(test_data, tf.float32)"
   ]
  },
  {
   "cell_type": "code",
   "execution_count": 9,
   "id": "eda35d3d-4ba2-4621-aa4e-0b6516d09c57",
   "metadata": {},
   "outputs": [
    {
     "name": "stdout",
     "output_type": "stream",
     "text": [
      " No. of records in Fraud Train Data= 350\n",
      " No. of records in Normal Train data= 199014\n",
      " No. of records in Fraud Test Data= 142\n",
      " No. of records in Normal Test data= 85301\n"
     ]
    }
   ],
   "source": [
    "train_labels = train_labels.astype(bool)\n",
    "test_labels = test_labels.astype(bool)\n",
    "#creating normal and fraud datasets\n",
    "normal_train_data = train_data[~train_labels]\n",
    "normal_test_data = test_data[~test_labels]\n",
    "fraud_train_data = train_data[train_labels]\n",
    "fraud_test_data = test_data[test_labels]\n",
    "print(\" No. of records in Fraud Train Data=\",len(fraud_train_data))\n",
    "print(\" No. of records in Normal Train data=\",len(normal_train_data))\n",
    "print(\" No. of records in Fraud Test Data=\",len(fraud_test_data))\n",
    "print(\" No. of records in Normal Test data=\",len(normal_test_data))"
   ]
  },
  {
   "cell_type": "markdown",
   "id": "2f35fae5-7b28-4f26-8f3b-ee662b00b515",
   "metadata": {},
   "source": [
    "## Create the Autoencoder"
   ]
  },
  {
   "cell_type": "code",
   "execution_count": 10,
   "id": "1104f07b-7a52-4ba9-b9be-584da6908948",
   "metadata": {},
   "outputs": [],
   "source": [
    "nb_epoch = 50\n",
    "batch_size = 64\n",
    "input_dim = normal_train_data.shape[1] #num of columns, 30\n",
    "encoding_dim = 14\n",
    "hidden_dim_1 = int(encoding_dim / 2) #\n",
    "hidden_dim_2=4  \n",
    "learning_rate = 1e-7"
   ]
  },
  {
   "cell_type": "code",
   "execution_count": 11,
   "id": "bb8a2954-65b6-48c9-883b-7e9a0376f0bb",
   "metadata": {},
   "outputs": [
    {
     "name": "stdout",
     "output_type": "stream",
     "text": [
      "Model: \"model\"\n",
      "_________________________________________________________________\n",
      "Layer (type)                 Output Shape              Param #   \n",
      "=================================================================\n",
      "input_1 (InputLayer)         [(None, 30)]              0         \n",
      "_________________________________________________________________\n",
      "dense (Dense)                (None, 14)                434       \n",
      "_________________________________________________________________\n",
      "dropout (Dropout)            (None, 14)                0         \n",
      "_________________________________________________________________\n",
      "dense_1 (Dense)              (None, 7)                 105       \n",
      "_________________________________________________________________\n",
      "dense_2 (Dense)              (None, 4)                 32        \n",
      "_________________________________________________________________\n",
      "dense_3 (Dense)              (None, 7)                 35        \n",
      "_________________________________________________________________\n",
      "dropout_1 (Dropout)          (None, 7)                 0         \n",
      "_________________________________________________________________\n",
      "dense_4 (Dense)              (None, 14)                112       \n",
      "_________________________________________________________________\n",
      "dense_5 (Dense)              (None, 30)                450       \n",
      "=================================================================\n",
      "Total params: 1,168\n",
      "Trainable params: 1,168\n",
      "Non-trainable params: 0\n",
      "_________________________________________________________________\n"
     ]
    }
   ],
   "source": [
    "#input Layer\n",
    "input_layer = tf.keras.layers.Input(shape=(input_dim, ))\n",
    "#Encoder\n",
    "encoder = tf.keras.layers.Dense(encoding_dim, activation=\"tanh\", activity_regularizer=tf.keras.regularizers.l2(learning_rate))(input_layer)\n",
    "encoder=tf.keras.layers.Dropout(0.2)(encoder)\n",
    "encoder = tf.keras.layers.Dense(hidden_dim_1, activation='relu')(encoder)\n",
    "encoder = tf.keras.layers.Dense(hidden_dim_2, activation=tf.nn.leaky_relu)(encoder)\n",
    "# Decoder\n",
    "decoder = tf.keras.layers.Dense(hidden_dim_1, activation='relu')(encoder)\n",
    "decoder=tf.keras.layers.Dropout(0.2)(decoder)\n",
    "decoder = tf.keras.layers.Dense(encoding_dim, activation='relu')(decoder)\n",
    "decoder = tf.keras.layers.Dense(input_dim, activation='tanh')(decoder)\n",
    "#Autoencoder\n",
    "autoencoder = tf.keras.Model(inputs=input_layer, outputs=decoder)\n",
    "autoencoder.summary()"
   ]
  },
  {
   "cell_type": "code",
   "execution_count": 12,
   "id": "8993ec68-44f0-43b6-b6e5-11e148381f33",
   "metadata": {},
   "outputs": [],
   "source": [
    "cp = tf.keras.callbacks.ModelCheckpoint(filepath=\"autoencoder_fraud.h5\",mode='min', monitor='val_loss', verbose=2, save_best_only=True)\n",
    "# define our early stopping\n",
    "early_stop = tf.keras.callbacks.EarlyStopping(\n",
    "    monitor='val_loss',\n",
    "    min_delta=0.0001,\n",
    "    patience=10,\n",
    "    verbose=1, \n",
    "    mode='min',\n",
    "    restore_best_weights=True)"
   ]
  },
  {
   "cell_type": "code",
   "execution_count": 13,
   "id": "b6488997-596e-4c07-9401-0722ea617deb",
   "metadata": {},
   "outputs": [],
   "source": [
    "autoencoder.compile(metrics=['accuracy'], loss='mean_squared_error', optimizer='adam')"
   ]
  },
  {
   "cell_type": "code",
   "execution_count": 14,
   "id": "2df32227-39c3-45e0-8312-6ed41320830d",
   "metadata": {},
   "outputs": [
    {
     "name": "stdout",
     "output_type": "stream",
     "text": [
      "Epoch 1/50\n",
      "3110/3110 [==============================] - 3s 850us/step - loss: 0.0054 - accuracy: 0.0271 - val_loss: 5.6089e-05 - val_accuracy: 0.0136\n",
      "\n",
      "Epoch 00001: val_loss improved from inf to 0.00006, saving model to autoencoder_fraud.h5\n",
      "Epoch 2/50\n",
      "3110/3110 [==============================] - 2s 803us/step - loss: 2.0279e-05 - accuracy: 0.0494 - val_loss: 3.6013e-05 - val_accuracy: 0.0551\n",
      "\n",
      "Epoch 00002: val_loss improved from 0.00006 to 0.00004, saving model to autoencoder_fraud.h5\n",
      "Epoch 3/50\n",
      "3110/3110 [==============================] - 3s 804us/step - loss: 1.9509e-05 - accuracy: 0.0615 - val_loss: 2.9985e-05 - val_accuracy: 0.0136\n",
      "\n",
      "Epoch 00003: val_loss improved from 0.00004 to 0.00003, saving model to autoencoder_fraud.h5\n",
      "Epoch 4/50\n",
      "3110/3110 [==============================] - 3s 805us/step - loss: 1.9511e-05 - accuracy: 0.0619 - val_loss: 2.7416e-05 - val_accuracy: 0.0110\n",
      "\n",
      "Epoch 00004: val_loss improved from 0.00003 to 0.00003, saving model to autoencoder_fraud.h5\n",
      "Epoch 5/50\n",
      "3110/3110 [==============================] - 3s 813us/step - loss: 1.9386e-05 - accuracy: 0.0755 - val_loss: 2.4657e-05 - val_accuracy: 0.1870\n",
      "\n",
      "Epoch 00005: val_loss improved from 0.00003 to 0.00002, saving model to autoencoder_fraud.h5\n",
      "Epoch 6/50\n",
      "3110/3110 [==============================] - 3s 815us/step - loss: 1.8575e-05 - accuracy: 0.1908 - val_loss: 2.1323e-05 - val_accuracy: 0.2201\n",
      "\n",
      "Epoch 00006: val_loss improved from 0.00002 to 0.00002, saving model to autoencoder_fraud.h5\n",
      "Epoch 7/50\n",
      "3110/3110 [==============================] - 3s 815us/step - loss: 1.8096e-05 - accuracy: 0.2408 - val_loss: 2.0770e-05 - val_accuracy: 0.2241\n",
      "\n",
      "Epoch 00007: val_loss improved from 0.00002 to 0.00002, saving model to autoencoder_fraud.h5\n",
      "Epoch 8/50\n",
      "3110/3110 [==============================] - 3s 822us/step - loss: 1.7862e-05 - accuracy: 0.2593 - val_loss: 1.9753e-05 - val_accuracy: 0.2332\n",
      "\n",
      "Epoch 00008: val_loss improved from 0.00002 to 0.00002, saving model to autoencoder_fraud.h5\n",
      "Epoch 9/50\n",
      "3110/3110 [==============================] - 3s 834us/step - loss: 1.7658e-05 - accuracy: 0.2685 - val_loss: 1.8932e-05 - val_accuracy: 0.3255\n",
      "\n",
      "Epoch 00009: val_loss improved from 0.00002 to 0.00002, saving model to autoencoder_fraud.h5\n",
      "Epoch 10/50\n",
      "3110/3110 [==============================] - 3s 818us/step - loss: 1.7522e-05 - accuracy: 0.2742 - val_loss: 1.7411e-05 - val_accuracy: 0.3475\n",
      "\n",
      "Epoch 00010: val_loss improved from 0.00002 to 0.00002, saving model to autoencoder_fraud.h5\n",
      "Epoch 11/50\n",
      "3110/3110 [==============================] - 3s 831us/step - loss: 1.7329e-05 - accuracy: 0.2844 - val_loss: 1.7495e-05 - val_accuracy: 0.2959\n",
      "\n",
      "Epoch 00011: val_loss did not improve from 0.00002\n",
      "Restoring model weights from the end of the best epoch.\n",
      "Epoch 00011: early stopping\n"
     ]
    }
   ],
   "source": [
    "history = autoencoder.fit(normal_train_data, normal_train_data,\n",
    "                    epochs=nb_epoch,\n",
    "                    batch_size=batch_size,\n",
    "                    shuffle=True,\n",
    "                    validation_data=(test_data, test_data),\n",
    "                    verbose=1,\n",
    "                    callbacks=[cp, early_stop]\n",
    "                    ).history"
   ]
  },
  {
   "cell_type": "markdown",
   "id": "c2a5bbff-e9d3-4574-9524-101dd5d3f251",
   "metadata": {},
   "source": [
    "## Detect Anomalies on test data"
   ]
  },
  {
   "cell_type": "code",
   "execution_count": 18,
   "id": "022fd357-5fe6-40f4-ad11-37d18bb5bd13",
   "metadata": {},
   "outputs": [],
   "source": [
    "test_x_predictions = autoencoder.predict(test_data)\n",
    "mse = np.mean(np.power(test_data - test_x_predictions, 2), axis=1)\n",
    "error_df = pd.DataFrame({'Reconstruction_error': mse,'True_class': test_labels})"
   ]
  },
  {
   "cell_type": "code",
   "execution_count": 19,
   "id": "3f1888df-e3f7-4648-9d19-fe3582c5048c",
   "metadata": {},
   "outputs": [
    {
     "data": {
      "image/png": "[encoded data removed]",
      "text/plain": [
       "<Figure size 432x288 with 1 Axes>"
      ]
     },
     "metadata": {
      "needs_background": "light"
     },
     "output_type": "display_data"
    }
   ],
   "source": [
    "threshold_fixed = 50\n",
    "groups = error_df.groupby('True_class')\n",
    "fig, ax = plt.subplots()\n",
    "for name, group in groups:\n",
    "    ax.plot(group.index, group.Reconstruction_error, marker='o', ms=3.5, linestyle='',\n",
    "            label= \"Fraud\" if name == 1 else \"Normal\")\n",
    "ax.hlines(threshold_fixed, ax.get_xlim()[0], ax.get_xlim()[1], colors=\"r\", zorder=100, label='Threshold')\n",
    "ax.legend()\n",
    "plt.title(\"Reconstruction error for normal and fraud data\")\n",
    "plt.ylabel(\"Reconstruction error\")\n",
    "plt.xlabel(\"Data point index\")\n",
    "plt.show();"
   ]
  },
  {
   "cell_type": "code",
   "execution_count": 20,
   "id": "297d76e0-87c8-4176-8ba6-0212d0c4ad8b",
   "metadata": {},
   "outputs": [
    {
     "data": {
      "image/png": "[encoded data removed]",
      "text/plain": [
       "<Figure size 288x288 with 2 Axes>"
      ]
     },
     "metadata": {
      "needs_background": "light"
     },
     "output_type": "display_data"
    },
    {
     "name": "stdout",
     "output_type": "stream",
     "text": [
      " Accuracy:  0.99833807333544\n",
      " Recall:  0.0\n",
      " Precision:  0.0\n"
     ]
    },
    {
     "name": "stderr",
     "output_type": "stream",
     "text": [
      "/Users/mz195/Library/Python/3.8/lib/python/site-packages/sklearn/metrics/_classification.py:1248: UndefinedMetricWarning: Precision is ill-defined and being set to 0.0 due to no predicted samples. Use `zero_division` parameter to control this behavior.\n",
      "  _warn_prf(average, modifier, msg_start, len(result))\n"
     ]
    }
   ],
   "source": [
    "threshold_fixed =52\n",
    "pred_y = [1 if e > threshold_fixed else 0 for e in error_df.Reconstruction_error.values]\n",
    "error_df['pred'] =pred_y\n",
    "conf_matrix = confusion_matrix(error_df.True_class, pred_y)\n",
    "plt.figure(figsize=(4, 4))\n",
    "sns.heatmap(conf_matrix, xticklabels=LABELS, yticklabels=LABELS, annot=True, fmt=\"d\");\n",
    "plt.title(\"Confusion matrix\")\n",
    "plt.ylabel('True class')\n",
    "plt.xlabel('Predicted class')\n",
    "plt.show()\n",
    "# print Accuracy, precision and recall\n",
    "print(\" Accuracy: \",accuracy_score(error_df['True_class'], error_df['pred']))\n",
    "print(\" Recall: \",recall_score(error_df['True_class'], error_df['pred']))\n",
    "print(\" Precision: \",precision_score(error_df['True_class'], error_df['pred']))"
   ]
  },
  {
   "cell_type": "code",
   "execution_count": null,
   "id": "4860def0-4412-40b1-b077-003dad97e9ef",
   "metadata": {},
   "outputs": [],
   "source": []
  }
 ],
 "metadata": {
  "kernelspec": {
   "display_name": "Python 3",
   "language": "python",
   "name": "python3"
  },
  "language_info": {
   "codemirror_mode": {
    "name": "ipython",
    "version": 3
   },
   "file_extension": ".py",
   "mimetype": "text/x-python",
   "name": "python",
   "nbconvert_exporter": "python",
   "pygments_lexer": "ipython3",
   "version": "3.8.2"
  }
 },
 "nbformat": 4,
 "nbformat_minor": 5
}
