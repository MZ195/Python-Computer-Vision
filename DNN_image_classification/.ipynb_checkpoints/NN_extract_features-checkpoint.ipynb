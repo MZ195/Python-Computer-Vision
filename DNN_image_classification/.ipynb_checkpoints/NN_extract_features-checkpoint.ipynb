{
 "cells": [
  {
   "cell_type": "markdown",
   "id": "234c799b-7eb2-4e3a-b79b-205098b41277",
   "metadata": {
    "id": "Sd_h453YseEx"
   },
   "source": [
    "# Neural network for image classification"
   ]
  },
  {
   "cell_type": "markdown",
   "id": "b2295c49-e59a-4127-b68b-5bdd83109a73",
   "metadata": {
    "id": "NMc-ovSUNUnI"
   },
   "source": [
    "## Approach 2 - feature extraction"
   ]
  },
  {
   "cell_type": "markdown",
   "id": "84be8855-6344-4fd2-9927-98fbbed35f57",
   "metadata": {
    "id": "nA9a2AFmsiFJ"
   },
   "source": [
    "### Importing the libraries"
   ]
  },
  {
   "cell_type": "code",
   "execution_count": 1,
   "id": "5f68170b-93c3-48c6-930e-2dd6918c4979",
   "metadata": {},
   "outputs": [
    {
     "data": {
      "text/plain": [
       "'2.5.0'"
      ]
     },
     "execution_count": 1,
     "metadata": {},
     "output_type": "execute_result"
    }
   ],
   "source": [
    "import cv2\n",
    "import numpy as np\n",
    "import os\n",
    "import zipfile\n",
    "import tensorflow as tf\n",
    "import pandas as pd\n",
    "import seaborn as sns\n",
    "import matplotlib.pyplot as plt\n",
    "from IPython.display import display\n",
    "from PIL import Image\n",
    "from keras.models import save_model\n",
    "from sklearn.preprocessing import MinMaxScaler\n",
    "from sklearn.model_selection import train_test_split\n",
    "from sklearn.metrics import accuracy_score, confusion_matrix, classification_report\n",
    "tf.__version__"
   ]
  },
  {
   "cell_type": "markdown",
   "id": "ae091173-9941-409e-b2a0-4272d40707a4",
   "metadata": {
    "id": "Jx42w2NJhfU_"
   },
   "source": [
    "### Feature extractor"
   ]
  },
  {
   "cell_type": "code",
   "execution_count": 2,
   "id": "bb2ae0b1-a157-4730-9f68-609e40371991",
   "metadata": {
    "colab": {
     "base_uri": "https://localhost:8080/"
    },
    "id": "OuEDBAcktJ-G",
    "outputId": "3149ec28-8c96-4b0d-8e8c-936a0ebbcad1"
   },
   "outputs": [],
   "source": [
    "directory = './homer_bart_1'\n",
    "files = [os.path.join(directory, f) for f in sorted(os.listdir(directory))]"
   ]
  },
  {
   "cell_type": "code",
   "execution_count": 3,
   "id": "4e306afa-85fd-4d0d-8f27-fe054e9f303a",
   "metadata": {
    "id": "69-wgt0ktwdW"
   },
   "outputs": [],
   "source": [
    "export = 'mouth,pants,shoes,tshirt,shorts,sneakers,class\\n'"
   ]
  },
  {
   "cell_type": "code",
   "execution_count": 23,
   "id": "dbaec4b4-494d-4397-a2bb-bfc86210a0f4",
   "metadata": {
    "id": "bVeUDDZLuWBp"
   },
   "outputs": [],
   "source": [
    "show_images = False\n",
    "features = []"
   ]
  },
  {
   "cell_type": "code",
   "execution_count": 24,
   "id": "65c18bc8-7f56-4f58-928c-69945577e1c7",
   "metadata": {
    "id": "Ob_iiVISuebX"
   },
   "outputs": [],
   "source": [
    "for image_path in files:\n",
    "    try:\n",
    "        original_image = cv2.imread(image_path)\n",
    "        (H, W) = original_image.shape[:2]\n",
    "    except:\n",
    "        continue\n",
    "\n",
    "    image = original_image.copy()\n",
    "    image_features = []\n",
    "    mouth = pants = shoes = 0\n",
    "    tshirt = shorts = sneakers = 0\n",
    "\n",
    "    image_name = os.path.basename(os.path.normpath(image_path))\n",
    "\n",
    "    if image_name.startswith('b'):\n",
    "        class_name = 0\n",
    "    else:\n",
    "        class_name = 1\n",
    "\n",
    "    for height in range(0, H):\n",
    "        for width in range(0, W):\n",
    "            blue = image.item(height, width, 0)\n",
    "            green = image.item(height, width, 1)\n",
    "            red = image.item(height, width, 2)\n",
    "\n",
    "            # Homer - brown mouth\n",
    "            if (blue >= 95 and blue <= 140 and green >= 160 and green <= 185 and red >= 175 and red <= 200):\n",
    "                image[height, width] = [0, 255, 255]\n",
    "                mouth += 1\n",
    "\n",
    "             # Homer - blue pants\n",
    "            if (blue >= 150 and blue <= 180 and green >= 98 and green <= 120 and red >= 0 and red <= 90):\n",
    "                image[height, width] = [0, 255, 255]\n",
    "                pants += 1\n",
    "\n",
    "            # Homer - gray shoes\n",
    "            if height > (H / 2):\n",
    "                if (blue >= 25 and blue <= 45 and green >= 25 and green <= 45 and red >= 25 and red <= 45):\n",
    "                    image[height, width] = [0, 255, 255]\n",
    "                    shoes += 1\n",
    "\n",
    "            # Bart - orange t-shirt\n",
    "            if (blue >= 11 and blue <= 22 and green >= 85 and green <= 105 and red >= 240 and red <= 255):\n",
    "                image[height, width] = [0, 255, 128]\n",
    "                tshirt += 1\n",
    "\n",
    "            # Bart - blue shorts\n",
    "            if (blue >= 125 and blue <= 170 and green >= 0 and green <= 12 and red >= 0 and red <= 20):\n",
    "                image[height, width] = [0, 255, 128]\n",
    "                shorts += 1\n",
    "\n",
    "            # Bart - blue sneakers\n",
    "            if height > (H / 2):\n",
    "                if (blue >= 125 and blue <= 170 and green >= 0 and green <= 12 and red >= 0 and red <= 20):\n",
    "                    image[height, width] = [0, 255, 128]\n",
    "                    sneakers += 1\n",
    "\n",
    "    mouth = round((mouth / (H * W)) * 100, 9)\n",
    "    pants = round((pants / (H * W)) * 100, 9)\n",
    "    shoes = round((shoes / (H * W)) * 100, 9)\n",
    "\n",
    "    tshirt = round((tshirt / (H * W)) * 100, 9)\n",
    "    shorts = round((shorts / (H * W)) * 100, 9)\n",
    "    sneakers = round((sneakers / (H * W)) * 100, 9)\n",
    "\n",
    "    image_features.append(mouth)\n",
    "    image_features.append(pants)\n",
    "    image_features.append(shoes)\n",
    "    image_features.append(tshirt)\n",
    "    image_features.append(shorts)\n",
    "    image_features.append(sneakers)\n",
    "    image_features.append(class_name)\n",
    "\n",
    "    features.append(image_features)\n",
    "\n",
    "    f = (\",\".join([str(item) for item in image_features]))\n",
    "    export += f + '\\n'\n",
    "\n",
    "    if show_images == True:\n",
    "        image = cv2.cvtColor(image, cv2.COLOR_BGR2RGB)\n",
    "        original_image = cv2.cvtColor(original_image, cv2.COLOR_BGR2RGB)\n",
    "        fig, im = plt.subplots(1, 2)\n",
    "        im[0].axis('off')\n",
    "        im[0].imshow(original_image)\n",
    "        im[1].axis('off')\n",
    "        im[1].imshow(image)\n",
    "        plt.show()"
   ]
  },
  {
   "cell_type": "code",
   "execution_count": 25,
   "id": "ab671e36-bd2b-422d-86d4-3e643970a49f",
   "metadata": {
    "colab": {
     "base_uri": "https://localhost:8080/"
    },
    "id": "s3neDg6cCoHC",
    "outputId": "410db7ba-9909-4a2e-dba2-05b11c528016"
   },
   "outputs": [
    {
     "data": {
      "text/plain": [
       "True"
      ]
     },
     "execution_count": 25,
     "metadata": {},
     "output_type": "execute_result"
    }
   ],
   "source": [
    "with open('features.csv', 'w') as file:\n",
    "    for l in export:\n",
    "        file.write(l)\n",
    "file.closed"
   ]
  },
  {
   "cell_type": "code",
   "execution_count": 26,
   "id": "0a4ef4a8-6c8c-4787-acfa-a2a7f0d3063f",
   "metadata": {
    "colab": {
     "base_uri": "https://localhost:8080/",
     "height": 447
    },
    "id": "0LdQLSkLC6v6",
    "outputId": "7f0f412c-5e73-43b2-b710-a79a85f23a40"
   },
   "outputs": [
    {
     "data": {
      "text/html": [
       "<div>\n",
       "<style scoped>\n",
       "    .dataframe tbody tr th:only-of-type {\n",
       "        vertical-align: middle;\n",
       "    }\n",
       "\n",
       "    .dataframe tbody tr th {\n",
       "        vertical-align: top;\n",
       "    }\n",
       "\n",
       "    .dataframe thead th {\n",
       "        text-align: right;\n",
       "    }\n",
       "</style>\n",
       "<table border=\"1\" class=\"dataframe\">\n",
       "  <thead>\n",
       "    <tr style=\"text-align: right;\">\n",
       "      <th></th>\n",
       "      <th>mouth</th>\n",
       "      <th>pants</th>\n",
       "      <th>shoes</th>\n",
       "      <th>tshirt</th>\n",
       "      <th>shorts</th>\n",
       "      <th>sneakers</th>\n",
       "      <th>class</th>\n",
       "    </tr>\n",
       "  </thead>\n",
       "  <tbody>\n",
       "    <tr>\n",
       "      <th>0</th>\n",
       "      <td>0.000000</td>\n",
       "      <td>0.000000</td>\n",
       "      <td>0.114799</td>\n",
       "      <td>6.886102</td>\n",
       "      <td>3.495204</td>\n",
       "      <td>3.495204</td>\n",
       "      <td>0</td>\n",
       "    </tr>\n",
       "    <tr>\n",
       "      <th>1</th>\n",
       "      <td>0.000000</td>\n",
       "      <td>0.000000</td>\n",
       "      <td>0.114799</td>\n",
       "      <td>6.886102</td>\n",
       "      <td>3.495204</td>\n",
       "      <td>3.495204</td>\n",
       "      <td>0</td>\n",
       "    </tr>\n",
       "    <tr>\n",
       "      <th>2</th>\n",
       "      <td>0.000000</td>\n",
       "      <td>0.000000</td>\n",
       "      <td>0.110078</td>\n",
       "      <td>5.004901</td>\n",
       "      <td>3.183889</td>\n",
       "      <td>3.183889</td>\n",
       "      <td>0</td>\n",
       "    </tr>\n",
       "    <tr>\n",
       "      <th>3</th>\n",
       "      <td>0.000000</td>\n",
       "      <td>0.000000</td>\n",
       "      <td>0.182519</td>\n",
       "      <td>5.264620</td>\n",
       "      <td>5.029683</td>\n",
       "      <td>5.029683</td>\n",
       "      <td>0</td>\n",
       "    </tr>\n",
       "    <tr>\n",
       "      <th>4</th>\n",
       "      <td>0.000000</td>\n",
       "      <td>0.480168</td>\n",
       "      <td>0.080028</td>\n",
       "      <td>0.000000</td>\n",
       "      <td>0.000000</td>\n",
       "      <td>0.000000</td>\n",
       "      <td>0</td>\n",
       "    </tr>\n",
       "    <tr>\n",
       "      <th>...</th>\n",
       "      <td>...</td>\n",
       "      <td>...</td>\n",
       "      <td>...</td>\n",
       "      <td>...</td>\n",
       "      <td>...</td>\n",
       "      <td>...</td>\n",
       "      <td>...</td>\n",
       "    </tr>\n",
       "    <tr>\n",
       "      <th>534</th>\n",
       "      <td>6.485412</td>\n",
       "      <td>0.000000</td>\n",
       "      <td>0.171985</td>\n",
       "      <td>0.000000</td>\n",
       "      <td>0.000000</td>\n",
       "      <td>0.000000</td>\n",
       "      <td>1</td>\n",
       "    </tr>\n",
       "    <tr>\n",
       "      <th>535</th>\n",
       "      <td>0.000000</td>\n",
       "      <td>0.000000</td>\n",
       "      <td>0.161637</td>\n",
       "      <td>0.000000</td>\n",
       "      <td>0.000000</td>\n",
       "      <td>0.000000</td>\n",
       "      <td>1</td>\n",
       "    </tr>\n",
       "    <tr>\n",
       "      <th>536</th>\n",
       "      <td>4.264975</td>\n",
       "      <td>0.000000</td>\n",
       "      <td>0.329940</td>\n",
       "      <td>0.000000</td>\n",
       "      <td>0.000000</td>\n",
       "      <td>0.000000</td>\n",
       "      <td>1</td>\n",
       "    </tr>\n",
       "    <tr>\n",
       "      <th>537</th>\n",
       "      <td>1.429133</td>\n",
       "      <td>0.000000</td>\n",
       "      <td>0.034559</td>\n",
       "      <td>0.000000</td>\n",
       "      <td>0.000000</td>\n",
       "      <td>0.000000</td>\n",
       "      <td>1</td>\n",
       "    </tr>\n",
       "    <tr>\n",
       "      <th>538</th>\n",
       "      <td>0.853902</td>\n",
       "      <td>13.744248</td>\n",
       "      <td>0.161778</td>\n",
       "      <td>0.000000</td>\n",
       "      <td>0.000000</td>\n",
       "      <td>0.000000</td>\n",
       "      <td>1</td>\n",
       "    </tr>\n",
       "  </tbody>\n",
       "</table>\n",
       "<p>539 rows × 7 columns</p>\n",
       "</div>"
      ],
      "text/plain": [
       "        mouth      pants     shoes    tshirt    shorts  sneakers  class\n",
       "0    0.000000   0.000000  0.114799  6.886102  3.495204  3.495204      0\n",
       "1    0.000000   0.000000  0.114799  6.886102  3.495204  3.495204      0\n",
       "2    0.000000   0.000000  0.110078  5.004901  3.183889  3.183889      0\n",
       "3    0.000000   0.000000  0.182519  5.264620  5.029683  5.029683      0\n",
       "4    0.000000   0.480168  0.080028  0.000000  0.000000  0.000000      0\n",
       "..        ...        ...       ...       ...       ...       ...    ...\n",
       "534  6.485412   0.000000  0.171985  0.000000  0.000000  0.000000      1\n",
       "535  0.000000   0.000000  0.161637  0.000000  0.000000  0.000000      1\n",
       "536  4.264975   0.000000  0.329940  0.000000  0.000000  0.000000      1\n",
       "537  1.429133   0.000000  0.034559  0.000000  0.000000  0.000000      1\n",
       "538  0.853902  13.744248  0.161778  0.000000  0.000000  0.000000      1\n",
       "\n",
       "[539 rows x 7 columns]"
      ]
     },
     "execution_count": 26,
     "metadata": {},
     "output_type": "execute_result"
    }
   ],
   "source": [
    "dataset = pd.read_csv('features.csv')\n",
    "dataset"
   ]
  },
  {
   "cell_type": "markdown",
   "id": "e5d88cb8-0bd9-4c26-8864-9a4a4aae703a",
   "metadata": {
    "id": "aBbNwE-1hkOC"
   },
   "source": [
    "### Train and test sets"
   ]
  },
  {
   "cell_type": "code",
   "execution_count": 27,
   "id": "f5281dc9-4dc9-482c-aeca-8c1dbfec6a54",
   "metadata": {
    "colab": {
     "base_uri": "https://localhost:8080/"
    },
    "id": "IDqSPSzhFgrY",
    "outputId": "d44d84df-7d0d-4f48-f9d3-6d1a8b7fcacb"
   },
   "outputs": [
    {
     "data": {
      "text/html": [
       "<div>\n",
       "<style scoped>\n",
       "    .dataframe tbody tr th:only-of-type {\n",
       "        vertical-align: middle;\n",
       "    }\n",
       "\n",
       "    .dataframe tbody tr th {\n",
       "        vertical-align: top;\n",
       "    }\n",
       "\n",
       "    .dataframe thead th {\n",
       "        text-align: right;\n",
       "    }\n",
       "</style>\n",
       "<table border=\"1\" class=\"dataframe\">\n",
       "  <thead>\n",
       "    <tr style=\"text-align: right;\">\n",
       "      <th></th>\n",
       "      <th>mouth</th>\n",
       "      <th>pants</th>\n",
       "      <th>shoes</th>\n",
       "      <th>tshirt</th>\n",
       "      <th>shorts</th>\n",
       "      <th>sneakers</th>\n",
       "    </tr>\n",
       "  </thead>\n",
       "  <tbody>\n",
       "    <tr>\n",
       "      <th>0</th>\n",
       "      <td>0.000000</td>\n",
       "      <td>0.000000</td>\n",
       "      <td>0.114799</td>\n",
       "      <td>6.886102</td>\n",
       "      <td>3.495204</td>\n",
       "      <td>3.495204</td>\n",
       "    </tr>\n",
       "    <tr>\n",
       "      <th>1</th>\n",
       "      <td>0.000000</td>\n",
       "      <td>0.000000</td>\n",
       "      <td>0.114799</td>\n",
       "      <td>6.886102</td>\n",
       "      <td>3.495204</td>\n",
       "      <td>3.495204</td>\n",
       "    </tr>\n",
       "    <tr>\n",
       "      <th>2</th>\n",
       "      <td>0.000000</td>\n",
       "      <td>0.000000</td>\n",
       "      <td>0.110078</td>\n",
       "      <td>5.004901</td>\n",
       "      <td>3.183889</td>\n",
       "      <td>3.183889</td>\n",
       "    </tr>\n",
       "    <tr>\n",
       "      <th>3</th>\n",
       "      <td>0.000000</td>\n",
       "      <td>0.000000</td>\n",
       "      <td>0.182519</td>\n",
       "      <td>5.264620</td>\n",
       "      <td>5.029683</td>\n",
       "      <td>5.029683</td>\n",
       "    </tr>\n",
       "    <tr>\n",
       "      <th>4</th>\n",
       "      <td>0.000000</td>\n",
       "      <td>0.480168</td>\n",
       "      <td>0.080028</td>\n",
       "      <td>0.000000</td>\n",
       "      <td>0.000000</td>\n",
       "      <td>0.000000</td>\n",
       "    </tr>\n",
       "    <tr>\n",
       "      <th>...</th>\n",
       "      <td>...</td>\n",
       "      <td>...</td>\n",
       "      <td>...</td>\n",
       "      <td>...</td>\n",
       "      <td>...</td>\n",
       "      <td>...</td>\n",
       "    </tr>\n",
       "    <tr>\n",
       "      <th>534</th>\n",
       "      <td>6.485412</td>\n",
       "      <td>0.000000</td>\n",
       "      <td>0.171985</td>\n",
       "      <td>0.000000</td>\n",
       "      <td>0.000000</td>\n",
       "      <td>0.000000</td>\n",
       "    </tr>\n",
       "    <tr>\n",
       "      <th>535</th>\n",
       "      <td>0.000000</td>\n",
       "      <td>0.000000</td>\n",
       "      <td>0.161637</td>\n",
       "      <td>0.000000</td>\n",
       "      <td>0.000000</td>\n",
       "      <td>0.000000</td>\n",
       "    </tr>\n",
       "    <tr>\n",
       "      <th>536</th>\n",
       "      <td>4.264975</td>\n",
       "      <td>0.000000</td>\n",
       "      <td>0.329940</td>\n",
       "      <td>0.000000</td>\n",
       "      <td>0.000000</td>\n",
       "      <td>0.000000</td>\n",
       "    </tr>\n",
       "    <tr>\n",
       "      <th>537</th>\n",
       "      <td>1.429133</td>\n",
       "      <td>0.000000</td>\n",
       "      <td>0.034559</td>\n",
       "      <td>0.000000</td>\n",
       "      <td>0.000000</td>\n",
       "      <td>0.000000</td>\n",
       "    </tr>\n",
       "    <tr>\n",
       "      <th>538</th>\n",
       "      <td>0.853902</td>\n",
       "      <td>13.744248</td>\n",
       "      <td>0.161778</td>\n",
       "      <td>0.000000</td>\n",
       "      <td>0.000000</td>\n",
       "      <td>0.000000</td>\n",
       "    </tr>\n",
       "  </tbody>\n",
       "</table>\n",
       "<p>539 rows × 6 columns</p>\n",
       "</div>"
      ],
      "text/plain": [
       "        mouth      pants     shoes    tshirt    shorts  sneakers\n",
       "0    0.000000   0.000000  0.114799  6.886102  3.495204  3.495204\n",
       "1    0.000000   0.000000  0.114799  6.886102  3.495204  3.495204\n",
       "2    0.000000   0.000000  0.110078  5.004901  3.183889  3.183889\n",
       "3    0.000000   0.000000  0.182519  5.264620  5.029683  5.029683\n",
       "4    0.000000   0.480168  0.080028  0.000000  0.000000  0.000000\n",
       "..        ...        ...       ...       ...       ...       ...\n",
       "534  6.485412   0.000000  0.171985  0.000000  0.000000  0.000000\n",
       "535  0.000000   0.000000  0.161637  0.000000  0.000000  0.000000\n",
       "536  4.264975   0.000000  0.329940  0.000000  0.000000  0.000000\n",
       "537  1.429133   0.000000  0.034559  0.000000  0.000000  0.000000\n",
       "538  0.853902  13.744248  0.161778  0.000000  0.000000  0.000000\n",
       "\n",
       "[539 rows x 6 columns]"
      ]
     },
     "execution_count": 27,
     "metadata": {},
     "output_type": "execute_result"
    }
   ],
   "source": [
    "X = dataset.drop(\"class\", axis=1)\n",
    "X"
   ]
  },
  {
   "cell_type": "code",
   "execution_count": 28,
   "id": "706a3941-ddd0-4b66-a0d5-96cc8ce971dc",
   "metadata": {
    "colab": {
     "base_uri": "https://localhost:8080/"
    },
    "id": "X6r9tkvpF8Q5",
    "outputId": "33091b5a-213a-4568-9cf5-4c0b290b9846"
   },
   "outputs": [
    {
     "data": {
      "text/plain": [
       "0      0\n",
       "1      0\n",
       "2      0\n",
       "3      0\n",
       "4      0\n",
       "      ..\n",
       "534    1\n",
       "535    1\n",
       "536    1\n",
       "537    1\n",
       "538    1\n",
       "Name: class, Length: 539, dtype: int64"
      ]
     },
     "execution_count": 28,
     "metadata": {},
     "output_type": "execute_result"
    }
   ],
   "source": [
    "y = dataset[\"class\"]\n",
    "y"
   ]
  },
  {
   "cell_type": "code",
   "execution_count": 29,
   "id": "018d348e-4e42-4a35-8514-f008bd4fa914",
   "metadata": {
    "id": "sNWbgVSvGEPV"
   },
   "outputs": [],
   "source": [
    "X_train, X_test, y_train, y_test = train_test_split(X, y, test_size = 0.2, random_state = 42)"
   ]
  },
  {
   "cell_type": "code",
   "execution_count": 30,
   "id": "d1534a68-c1a9-4e02-8f22-0978310109fc",
   "metadata": {
    "colab": {
     "base_uri": "https://localhost:8080/"
    },
    "id": "Q5gyVLkNGfqa",
    "outputId": "6e6897c0-7409-4080-f59e-223965715c7e"
   },
   "outputs": [
    {
     "data": {
      "text/plain": [
       "((431, 6), (431,))"
      ]
     },
     "execution_count": 30,
     "metadata": {},
     "output_type": "execute_result"
    }
   ],
   "source": [
    "X_train.shape, y_train.shape"
   ]
  },
  {
   "cell_type": "code",
   "execution_count": 31,
   "id": "40226b00-d6a0-42b2-84ba-f46a5ab9ca63",
   "metadata": {
    "colab": {
     "base_uri": "https://localhost:8080/"
    },
    "id": "7_LAfcAoGljx",
    "outputId": "1c5e9f32-1f63-4756-b2b2-6852026071d8"
   },
   "outputs": [
    {
     "data": {
      "text/plain": [
       "((108, 6), (108,))"
      ]
     },
     "execution_count": 31,
     "metadata": {},
     "output_type": "execute_result"
    }
   ],
   "source": [
    "X_test.shape, y_test.shape"
   ]
  },
  {
   "cell_type": "markdown",
   "id": "47e38bcc-d086-4437-8b94-b46e2a550a8a",
   "metadata": {
    "id": "7SWwQVVVhmrm"
   },
   "source": [
    "### Building and training the neural network"
   ]
  },
  {
   "cell_type": "code",
   "execution_count": 32,
   "id": "3ac0c322-21de-4ee4-9f9a-2338dad89f19",
   "metadata": {
    "id": "YR5KdlEJHMs1"
   },
   "outputs": [],
   "source": [
    "# 6 -> 4 -> 4 -> 4 -> 1\n",
    "network2 = tf.keras.models.Sequential()\n",
    "network2.add(tf.keras.layers.Dense(input_shape = (6,), units = 4, activation='relu'))\n",
    "network2.add(tf.keras.layers.Dense(units = 4, activation='relu'))\n",
    "network2.add(tf.keras.layers.Dense(units = 4, activation='relu'))\n",
    "network2.add(tf.keras.layers.Dense(units = 1, activation='sigmoid'))"
   ]
  },
  {
   "cell_type": "code",
   "execution_count": 33,
   "id": "9531229f-9307-4d08-bba6-597d4fe10422",
   "metadata": {
    "colab": {
     "base_uri": "https://localhost:8080/"
    },
    "id": "OpNCC381ImEm",
    "outputId": "13a0bb63-852f-4ef5-d0e8-e5be33ebd473"
   },
   "outputs": [
    {
     "name": "stdout",
     "output_type": "stream",
     "text": [
      "Model: \"sequential_1\"\n",
      "_________________________________________________________________\n",
      "Layer (type)                 Output Shape              Param #   \n",
      "=================================================================\n",
      "dense_4 (Dense)              (None, 4)                 28        \n",
      "_________________________________________________________________\n",
      "dense_5 (Dense)              (None, 4)                 20        \n",
      "_________________________________________________________________\n",
      "dense_6 (Dense)              (None, 4)                 20        \n",
      "_________________________________________________________________\n",
      "dense_7 (Dense)              (None, 1)                 5         \n",
      "=================================================================\n",
      "Total params: 73\n",
      "Trainable params: 73\n",
      "Non-trainable params: 0\n",
      "_________________________________________________________________\n"
     ]
    }
   ],
   "source": [
    "network2.summary()"
   ]
  },
  {
   "cell_type": "code",
   "execution_count": 34,
   "id": "6ae40e28-211e-4e46-a570-ae8a41d3b60e",
   "metadata": {
    "id": "Pj1g7YoJI1Re"
   },
   "outputs": [],
   "source": [
    "network2.compile(optimizer='Adam', loss='binary_crossentropy', metrics = ['accuracy'])"
   ]
  },
  {
   "cell_type": "code",
   "execution_count": 36,
   "id": "413dd13c-9e6e-47d4-9627-15f7f12b6f01",
   "metadata": {
    "colab": {
     "base_uri": "https://localhost:8080/"
    },
    "id": "PTBHELg0I_R9",
    "outputId": "7a0e3bd1-091c-4ebe-a2ac-979372360d62"
   },
   "outputs": [
    {
     "name": "stdout",
     "output_type": "stream",
     "text": [
      "Epoch 1/100\n",
      "14/14 [==============================] - 0s 1ms/step - loss: 0.4111 - accuracy: 0.8886\n",
      "Epoch 2/100\n",
      "14/14 [==============================] - 0s 681us/step - loss: 0.4090 - accuracy: 0.8910\n",
      "Epoch 3/100\n",
      "14/14 [==============================] - 0s 2ms/step - loss: 0.4071 - accuracy: 0.8910\n",
      "Epoch 4/100\n",
      "14/14 [==============================] - 0s 2ms/step - loss: 0.4051 - accuracy: 0.8910\n",
      "Epoch 5/100\n",
      "14/14 [==============================] - 0s 941us/step - loss: 0.4033 - accuracy: 0.8910\n",
      "Epoch 6/100\n",
      "14/14 [==============================] - 0s 917us/step - loss: 0.4013 - accuracy: 0.8863\n",
      "Epoch 7/100\n",
      "14/14 [==============================] - 0s 891us/step - loss: 0.3994 - accuracy: 0.8863\n",
      "Epoch 8/100\n",
      "14/14 [==============================] - 0s 910us/step - loss: 0.3976 - accuracy: 0.8910\n",
      "Epoch 9/100\n",
      "14/14 [==============================] - 0s 858us/step - loss: 0.3958 - accuracy: 0.8933\n",
      "Epoch 10/100\n",
      "14/14 [==============================] - 0s 779us/step - loss: 0.3940 - accuracy: 0.8933\n",
      "Epoch 11/100\n",
      "14/14 [==============================] - 0s 890us/step - loss: 0.3922 - accuracy: 0.8910\n",
      "Epoch 12/100\n",
      "14/14 [==============================] - 0s 668us/step - loss: 0.3906 - accuracy: 0.8863\n",
      "Epoch 13/100\n",
      "14/14 [==============================] - 0s 718us/step - loss: 0.3888 - accuracy: 0.8910\n",
      "Epoch 14/100\n",
      "14/14 [==============================] - 0s 835us/step - loss: 0.3872 - accuracy: 0.8910\n",
      "Epoch 15/100\n",
      "14/14 [==============================] - 0s 651us/step - loss: 0.3854 - accuracy: 0.8956\n",
      "Epoch 16/100\n",
      "14/14 [==============================] - 0s 803us/step - loss: 0.3837 - accuracy: 0.8933\n",
      "Epoch 17/100\n",
      "14/14 [==============================] - 0s 943us/step - loss: 0.3825 - accuracy: 0.8910\n",
      "Epoch 18/100\n",
      "14/14 [==============================] - 0s 717us/step - loss: 0.3810 - accuracy: 0.8886\n",
      "Epoch 19/100\n",
      "14/14 [==============================] - 0s 748us/step - loss: 0.3791 - accuracy: 0.8933\n",
      "Epoch 20/100\n",
      "14/14 [==============================] - 0s 773us/step - loss: 0.3775 - accuracy: 0.8933\n",
      "Epoch 21/100\n",
      "14/14 [==============================] - 0s 871us/step - loss: 0.3760 - accuracy: 0.8910\n",
      "Epoch 22/100\n",
      "14/14 [==============================] - 0s 790us/step - loss: 0.3744 - accuracy: 0.8910\n",
      "Epoch 23/100\n",
      "14/14 [==============================] - 0s 670us/step - loss: 0.3729 - accuracy: 0.8910\n",
      "Epoch 24/100\n",
      "14/14 [==============================] - 0s 867us/step - loss: 0.3713 - accuracy: 0.8910\n",
      "Epoch 25/100\n",
      "14/14 [==============================] - 0s 834us/step - loss: 0.3699 - accuracy: 0.8910\n",
      "Epoch 26/100\n",
      "14/14 [==============================] - 0s 782us/step - loss: 0.3683 - accuracy: 0.8886\n",
      "Epoch 27/100\n",
      "14/14 [==============================] - 0s 696us/step - loss: 0.3669 - accuracy: 0.8863\n",
      "Epoch 28/100\n",
      "14/14 [==============================] - 0s 708us/step - loss: 0.3654 - accuracy: 0.8863\n",
      "Epoch 29/100\n",
      "14/14 [==============================] - 0s 936us/step - loss: 0.3644 - accuracy: 0.8863\n",
      "Epoch 30/100\n",
      "14/14 [==============================] - 0s 816us/step - loss: 0.3628 - accuracy: 0.8863\n",
      "Epoch 31/100\n",
      "14/14 [==============================] - 0s 699us/step - loss: 0.3614 - accuracy: 0.8863\n",
      "Epoch 32/100\n",
      "14/14 [==============================] - 0s 740us/step - loss: 0.3599 - accuracy: 0.8863\n",
      "Epoch 33/100\n",
      "14/14 [==============================] - 0s 819us/step - loss: 0.3585 - accuracy: 0.8863\n",
      "Epoch 34/100\n",
      "14/14 [==============================] - 0s 848us/step - loss: 0.3571 - accuracy: 0.8863\n",
      "Epoch 35/100\n",
      "14/14 [==============================] - 0s 837us/step - loss: 0.3558 - accuracy: 0.8863\n",
      "Epoch 36/100\n",
      "14/14 [==============================] - 0s 647us/step - loss: 0.3545 - accuracy: 0.8863\n",
      "Epoch 37/100\n",
      "14/14 [==============================] - 0s 833us/step - loss: 0.3532 - accuracy: 0.8863\n",
      "Epoch 38/100\n",
      "14/14 [==============================] - 0s 855us/step - loss: 0.3518 - accuracy: 0.8863\n",
      "Epoch 39/100\n",
      "14/14 [==============================] - 0s 789us/step - loss: 0.3507 - accuracy: 0.8863\n",
      "Epoch 40/100\n",
      "14/14 [==============================] - 0s 716us/step - loss: 0.3493 - accuracy: 0.8863\n",
      "Epoch 41/100\n",
      "14/14 [==============================] - 0s 743us/step - loss: 0.3480 - accuracy: 0.8863\n",
      "Epoch 42/100\n",
      "14/14 [==============================] - 0s 851us/step - loss: 0.3468 - accuracy: 0.8863\n",
      "Epoch 43/100\n",
      "14/14 [==============================] - 0s 706us/step - loss: 0.3455 - accuracy: 0.8863\n",
      "Epoch 44/100\n",
      "14/14 [==============================] - 0s 681us/step - loss: 0.3442 - accuracy: 0.8863\n",
      "Epoch 45/100\n",
      "14/14 [==============================] - 0s 810us/step - loss: 0.3430 - accuracy: 0.8863\n",
      "Epoch 46/100\n",
      "14/14 [==============================] - 0s 724us/step - loss: 0.3421 - accuracy: 0.8863\n",
      "Epoch 47/100\n",
      "14/14 [==============================] - 0s 740us/step - loss: 0.3405 - accuracy: 0.8863\n",
      "Epoch 48/100\n",
      "14/14 [==============================] - 0s 798us/step - loss: 0.3394 - accuracy: 0.8863\n",
      "Epoch 49/100\n",
      "14/14 [==============================] - 0s 771us/step - loss: 0.3383 - accuracy: 0.8863\n",
      "Epoch 50/100\n",
      "14/14 [==============================] - 0s 722us/step - loss: 0.3371 - accuracy: 0.8863\n",
      "Epoch 51/100\n",
      "14/14 [==============================] - 0s 808us/step - loss: 0.3359 - accuracy: 0.8863\n",
      "Epoch 52/100\n",
      "14/14 [==============================] - 0s 742us/step - loss: 0.3347 - accuracy: 0.8863\n",
      "Epoch 53/100\n",
      "14/14 [==============================] - 0s 805us/step - loss: 0.3340 - accuracy: 0.8863\n",
      "Epoch 54/100\n",
      "14/14 [==============================] - 0s 787us/step - loss: 0.3327 - accuracy: 0.8863\n",
      "Epoch 55/100\n",
      "14/14 [==============================] - 0s 631us/step - loss: 0.3314 - accuracy: 0.8863\n",
      "Epoch 56/100\n",
      "14/14 [==============================] - 0s 784us/step - loss: 0.3304 - accuracy: 0.8863\n",
      "Epoch 57/100\n",
      "14/14 [==============================] - 0s 858us/step - loss: 0.3294 - accuracy: 0.8863\n",
      "Epoch 58/100\n",
      "14/14 [==============================] - 0s 842us/step - loss: 0.3285 - accuracy: 0.8840\n",
      "Epoch 59/100\n",
      "14/14 [==============================] - 0s 741us/step - loss: 0.3271 - accuracy: 0.8863\n",
      "Epoch 60/100\n",
      "14/14 [==============================] - 0s 717us/step - loss: 0.3261 - accuracy: 0.8863\n",
      "Epoch 61/100\n",
      "14/14 [==============================] - 0s 919us/step - loss: 0.3257 - accuracy: 0.8863\n",
      "Epoch 62/100\n",
      "14/14 [==============================] - 0s 766us/step - loss: 0.3242 - accuracy: 0.8863\n",
      "Epoch 63/100\n",
      "14/14 [==============================] - 0s 678us/step - loss: 0.3231 - accuracy: 0.8863\n",
      "Epoch 64/100\n",
      "14/14 [==============================] - 0s 792us/step - loss: 0.3221 - accuracy: 0.8863\n",
      "Epoch 65/100\n",
      "14/14 [==============================] - 0s 806us/step - loss: 0.3211 - accuracy: 0.8863\n",
      "Epoch 66/100\n",
      "14/14 [==============================] - 0s 714us/step - loss: 0.3202 - accuracy: 0.8863\n",
      "Epoch 67/100\n",
      "14/14 [==============================] - 0s 792us/step - loss: 0.3192 - accuracy: 0.8863\n",
      "Epoch 68/100\n",
      "14/14 [==============================] - 0s 748us/step - loss: 0.3188 - accuracy: 0.8817\n",
      "Epoch 69/100\n",
      "14/14 [==============================] - 0s 764us/step - loss: 0.3173 - accuracy: 0.8863\n",
      "Epoch 70/100\n",
      "14/14 [==============================] - 0s 801us/step - loss: 0.3164 - accuracy: 0.8840\n",
      "Epoch 71/100\n",
      "14/14 [==============================] - 0s 950us/step - loss: 0.3155 - accuracy: 0.8863\n",
      "Epoch 72/100\n",
      "14/14 [==============================] - 0s 743us/step - loss: 0.3147 - accuracy: 0.8863\n",
      "Epoch 73/100\n",
      "14/14 [==============================] - 0s 733us/step - loss: 0.3138 - accuracy: 0.8863\n",
      "Epoch 74/100\n",
      "14/14 [==============================] - 0s 938us/step - loss: 0.3128 - accuracy: 0.8863\n",
      "Epoch 75/100\n",
      "14/14 [==============================] - 0s 722us/step - loss: 0.3119 - accuracy: 0.8863\n",
      "Epoch 76/100\n",
      "14/14 [==============================] - 0s 748us/step - loss: 0.3111 - accuracy: 0.8863\n",
      "Epoch 77/100\n",
      "14/14 [==============================] - 0s 764us/step - loss: 0.3101 - accuracy: 0.8863\n",
      "Epoch 78/100\n",
      "14/14 [==============================] - 0s 823us/step - loss: 0.3092 - accuracy: 0.8863\n",
      "Epoch 79/100\n",
      "14/14 [==============================] - 0s 723us/step - loss: 0.3085 - accuracy: 0.8863\n",
      "Epoch 80/100\n",
      "14/14 [==============================] - 0s 711us/step - loss: 0.3077 - accuracy: 0.8863\n",
      "Epoch 81/100\n",
      "14/14 [==============================] - 0s 711us/step - loss: 0.3073 - accuracy: 0.8886\n",
      "Epoch 82/100\n",
      "14/14 [==============================] - 0s 891us/step - loss: 0.3059 - accuracy: 0.8863\n",
      "Epoch 83/100\n",
      "14/14 [==============================] - 0s 818us/step - loss: 0.3050 - accuracy: 0.8863\n",
      "Epoch 84/100\n",
      "14/14 [==============================] - 0s 663us/step - loss: 0.3042 - accuracy: 0.8863\n",
      "Epoch 85/100\n",
      "14/14 [==============================] - 0s 728us/step - loss: 0.3033 - accuracy: 0.8863\n",
      "Epoch 86/100\n",
      "14/14 [==============================] - 0s 790us/step - loss: 0.3026 - accuracy: 0.8863\n",
      "Epoch 87/100\n",
      "14/14 [==============================] - 0s 702us/step - loss: 0.3020 - accuracy: 0.8863\n",
      "Epoch 88/100\n",
      "14/14 [==============================] - 0s 850us/step - loss: 0.3010 - accuracy: 0.8863\n",
      "Epoch 89/100\n",
      "14/14 [==============================] - 0s 715us/step - loss: 0.3005 - accuracy: 0.8910\n",
      "Epoch 90/100\n",
      "14/14 [==============================] - 0s 768us/step - loss: 0.2994 - accuracy: 0.8863\n",
      "Epoch 91/100\n",
      "14/14 [==============================] - 0s 746us/step - loss: 0.2986 - accuracy: 0.8863\n",
      "Epoch 92/100\n",
      "14/14 [==============================] - 0s 713us/step - loss: 0.2978 - accuracy: 0.8863\n",
      "Epoch 93/100\n",
      "14/14 [==============================] - 0s 747us/step - loss: 0.2970 - accuracy: 0.8910\n",
      "Epoch 94/100\n",
      "14/14 [==============================] - 0s 746us/step - loss: 0.2963 - accuracy: 0.9049\n",
      "Epoch 95/100\n",
      "14/14 [==============================] - 0s 787us/step - loss: 0.2956 - accuracy: 0.9049\n",
      "Epoch 96/100\n",
      "14/14 [==============================] - 0s 793us/step - loss: 0.2947 - accuracy: 0.9049\n",
      "Epoch 97/100\n",
      "14/14 [==============================] - 0s 645us/step - loss: 0.2939 - accuracy: 0.9049\n",
      "Epoch 98/100\n",
      "14/14 [==============================] - 0s 672us/step - loss: 0.2933 - accuracy: 0.9049\n",
      "Epoch 99/100\n",
      "14/14 [==============================] - 0s 801us/step - loss: 0.2925 - accuracy: 0.9049\n",
      "Epoch 100/100\n",
      "14/14 [==============================] - 0s 697us/step - loss: 0.2917 - accuracy: 0.8956\n"
     ]
    }
   ],
   "source": [
    "history = network2.fit(X_train, y_train, epochs = 100)"
   ]
  },
  {
   "cell_type": "markdown",
   "id": "a1f4ed08-fa1d-4373-abdf-795570007fa1",
   "metadata": {
    "id": "ihTsEwaThri1"
   },
   "source": [
    "### Evaluating the neural network"
   ]
  },
  {
   "cell_type": "code",
   "execution_count": 37,
   "id": "daf258be-feef-4a36-9f33-d72995df3cbd",
   "metadata": {
    "colab": {
     "base_uri": "https://localhost:8080/"
    },
    "id": "FvhdH-ajLjgs",
    "outputId": "60ec5b7b-2794-490e-9c95-ab25fc81c2d2"
   },
   "outputs": [
    {
     "data": {
      "text/plain": [
       "dict_keys(['loss', 'accuracy'])"
      ]
     },
     "execution_count": 37,
     "metadata": {},
     "output_type": "execute_result"
    }
   ],
   "source": [
    "history.history.keys()"
   ]
  },
  {
   "cell_type": "code",
   "execution_count": 38,
   "id": "2652220b-642e-4135-852a-b23bb0e17e89",
   "metadata": {
    "colab": {
     "base_uri": "https://localhost:8080/",
     "height": 285
    },
    "id": "8JUs8oupLqqm",
    "outputId": "3381e317-965b-4dfe-aef2-57e3677cff5e"
   },
   "outputs": [
    {
     "data": {
      "image/png": "[encoded data removed]",
      "text/plain": [
       "<Figure size 432x288 with 1 Axes>"
      ]
     },
     "metadata": {
      "needs_background": "light"
     },
     "output_type": "display_data"
    }
   ],
   "source": [
    "plt.plot(history.history['loss']);"
   ]
  },
  {
   "cell_type": "code",
   "execution_count": 39,
   "id": "d98b9677-aab2-40d0-b5e7-8a9bbe610595",
   "metadata": {
    "colab": {
     "base_uri": "https://localhost:8080/",
     "height": 285
    },
    "id": "0IFjamyDL54q",
    "outputId": "0c84e723-476e-4d8a-d838-9f78e300fe96"
   },
   "outputs": [
    {
     "data": {
      "image/png": "[encoded data removed]",
      "text/plain": [
       "<Figure size 432x288 with 1 Axes>"
      ]
     },
     "metadata": {
      "needs_background": "light"
     },
     "output_type": "display_data"
    }
   ],
   "source": [
    "plt.plot(history.history['accuracy']);"
   ]
  },
  {
   "cell_type": "code",
   "execution_count": 40,
   "id": "62aee728-16eb-4c30-9caa-f2fc9c15d3f0",
   "metadata": {
    "colab": {
     "base_uri": "https://localhost:8080/"
    },
    "id": "PUKiO7ykMHbS",
    "outputId": "66149ff8-e2bb-4370-9025-fdb19664118b"
   },
   "outputs": [
    {
     "data": {
      "text/plain": [
       "(108, 6)"
      ]
     },
     "execution_count": 40,
     "metadata": {},
     "output_type": "execute_result"
    }
   ],
   "source": [
    "X_test.shape"
   ]
  },
  {
   "cell_type": "code",
   "execution_count": 41,
   "id": "86730c2d-ace2-4d64-91e0-252866abec25",
   "metadata": {
    "colab": {
     "base_uri": "https://localhost:8080/"
    },
    "id": "gn2eQ0MyMLAB",
    "outputId": "ef8a3a70-22cd-4f44-8acc-5eae700b61c4"
   },
   "outputs": [],
   "source": [
    "predictions = network2.predict(X_test)"
   ]
  },
  {
   "cell_type": "code",
   "execution_count": 42,
   "id": "60394d83-ab65-45ce-ae45-3637618bf78d",
   "metadata": {
    "colab": {
     "base_uri": "https://localhost:8080/"
    },
    "id": "1dhskJSKMee0",
    "outputId": "a3e3a343-bae1-467f-b425-7b2611ac8b58"
   },
   "outputs": [],
   "source": [
    "predictions = (predictions > 0.5)"
   ]
  },
  {
   "cell_type": "code",
   "execution_count": 43,
   "id": "4866d7f8-0446-45ac-af44-35b531d2aae9",
   "metadata": {
    "colab": {
     "base_uri": "https://localhost:8080/"
    },
    "id": "SHibfXH2MmTw",
    "outputId": "92ee59cb-5b8e-4dbf-9000-5548b6e2cfb1"
   },
   "outputs": [
    {
     "data": {
      "text/plain": [
       "486    1\n",
       "73     0\n",
       "349    0\n",
       "86     0\n",
       "457    1\n",
       "      ..\n",
       "93     0\n",
       "325    0\n",
       "180    1\n",
       "331    0\n",
       "538    1\n",
       "Name: class, Length: 108, dtype: int64"
      ]
     },
     "execution_count": 43,
     "metadata": {},
     "output_type": "execute_result"
    }
   ],
   "source": [
    "y_test"
   ]
  },
  {
   "cell_type": "code",
   "execution_count": 44,
   "id": "cccd4188-9d02-4e48-8899-84c77acc245c",
   "metadata": {
    "colab": {
     "base_uri": "https://localhost:8080/"
    },
    "id": "Ik-g3y67MzDP",
    "outputId": "144417fa-4ed2-45f1-b8ce-232e003625ea"
   },
   "outputs": [
    {
     "data": {
      "text/plain": [
       "0.9166666666666666"
      ]
     },
     "execution_count": 44,
     "metadata": {},
     "output_type": "execute_result"
    }
   ],
   "source": [
    "accuracy_score(y_test, predictions)"
   ]
  },
  {
   "cell_type": "code",
   "execution_count": 45,
   "id": "21cf073b-bc02-4a56-9c6b-a6f74f3b80a3",
   "metadata": {
    "colab": {
     "base_uri": "https://localhost:8080/"
    },
    "id": "uUXZeU26NCmv",
    "outputId": "e44d50b2-0f8a-45e9-a6a9-a236b62b109f"
   },
   "outputs": [
    {
     "data": {
      "image/png": "[encoded data removed]",
      "text/plain": [
       "<Figure size 432x288 with 2 Axes>"
      ]
     },
     "metadata": {
      "needs_background": "light"
     },
     "output_type": "display_data"
    }
   ],
   "source": [
    "cm = confusion_matrix(y_test, predictions)\n",
    "sns.heatmap(cm, annot=True);"
   ]
  },
  {
   "cell_type": "code",
   "execution_count": 46,
   "id": "e9266a0a-6610-4378-aec2-9dc59e6b5e21",
   "metadata": {
    "colab": {
     "base_uri": "https://localhost:8080/"
    },
    "id": "ulqAHhcbNa9z",
    "outputId": "1fa7ed80-7e1c-454a-ce2a-41d49756b9be"
   },
   "outputs": [
    {
     "name": "stdout",
     "output_type": "stream",
     "text": [
      "              precision    recall  f1-score   support\n",
      "\n",
      "           0       0.90      0.97      0.93        65\n",
      "           1       0.95      0.84      0.89        43\n",
      "\n",
      "    accuracy                           0.92       108\n",
      "   macro avg       0.92      0.90      0.91       108\n",
      "weighted avg       0.92      0.92      0.92       108\n",
      "\n"
     ]
    }
   ],
   "source": [
    "print(classification_report(y_test, predictions))"
   ]
  },
  {
   "cell_type": "markdown",
   "id": "ab7990c8-4340-4ebd-bac3-db50d15f4580",
   "metadata": {
    "id": "jmDaG79zhuDG"
   },
   "source": [
    "### Saving, loading and classifying one single image"
   ]
  },
  {
   "cell_type": "code",
   "execution_count": 47,
   "id": "4f28f991-2a6d-45c6-99b6-9831bbbf335c",
   "metadata": {
    "id": "2QoQRmGcOC-q"
   },
   "outputs": [],
   "source": [
    "model_json = network2.to_json()\n",
    "with open('network2.json','w') as json_file:\n",
    "    json_file.write(model_json)"
   ]
  },
  {
   "cell_type": "code",
   "execution_count": 48,
   "id": "13924659-be1f-471f-a8fc-01cfcbb78a5c",
   "metadata": {
    "id": "S7iXBGxROE9P"
   },
   "outputs": [],
   "source": [
    "network2_saved = save_model(network2, './weights2.hdf5')"
   ]
  },
  {
   "cell_type": "code",
   "execution_count": 49,
   "id": "fcab7f56-cc39-42c1-9d6c-bd2fb2414b6f",
   "metadata": {
    "colab": {
     "base_uri": "https://localhost:8080/",
     "height": 252
    },
    "id": "8ew8gHtqPVKu",
    "outputId": "b50910ff-f102-4acf-d2e8-14028584ebcf"
   },
   "outputs": [],
   "source": [
    "with open('network2.json', 'r') as json_file:\n",
    "    json_saved_model = json_file.read()"
   ]
  },
  {
   "cell_type": "code",
   "execution_count": 50,
   "id": "84488763-28a0-46cb-9fb0-29801b4a9dde",
   "metadata": {
    "id": "GI1hqFpROHP2"
   },
   "outputs": [],
   "source": [
    "network2_loaded = tf.keras.models.model_from_json(json_saved_model)\n",
    "network2_loaded.load_weights('weights2.hdf5')\n",
    "network2_loaded.compile(loss = 'binary_crossentropy', optimizer='Adam', metrics=['accuracy'])"
   ]
  },
  {
   "cell_type": "code",
   "execution_count": 51,
   "id": "7732bd72-26ef-4962-8931-46e1de5b6e62",
   "metadata": {
    "colab": {
     "base_uri": "https://localhost:8080/"
    },
    "id": "9KX4EVEtOJ5w",
    "outputId": "b7e76377-2626-4405-cc05-91a02e3708ba"
   },
   "outputs": [
    {
     "name": "stdout",
     "output_type": "stream",
     "text": [
      "Model: \"sequential_1\"\n",
      "_________________________________________________________________\n",
      "Layer (type)                 Output Shape              Param #   \n",
      "=================================================================\n",
      "dense_4 (Dense)              (None, 4)                 28        \n",
      "_________________________________________________________________\n",
      "dense_5 (Dense)              (None, 4)                 20        \n",
      "_________________________________________________________________\n",
      "dense_6 (Dense)              (None, 4)                 20        \n",
      "_________________________________________________________________\n",
      "dense_7 (Dense)              (None, 1)                 5         \n",
      "=================================================================\n",
      "Total params: 73\n",
      "Trainable params: 73\n",
      "Non-trainable params: 0\n",
      "_________________________________________________________________\n"
     ]
    }
   ],
   "source": [
    "network2_loaded.summary()"
   ]
  },
  {
   "cell_type": "code",
   "execution_count": null,
   "id": "9bd856d4-edb3-4809-a133-ef883d3b97cb",
   "metadata": {},
   "outputs": [],
   "source": []
  }
 ],
 "metadata": {
  "kernelspec": {
   "display_name": "Python 3",
   "language": "python",
   "name": "python3"
  },
  "language_info": {
   "codemirror_mode": {
    "name": "ipython",
    "version": 3
   },
   "file_extension": ".py",
   "mimetype": "text/x-python",
   "name": "python",
   "nbconvert_exporter": "python",
   "pygments_lexer": "ipython3",
   "version": "3.8.2"
  }
 },
 "nbformat": 4,
 "nbformat_minor": 5
}
