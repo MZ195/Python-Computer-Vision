{
 "cells": [
  {
   "cell_type": "markdown",
   "metadata": {
    "id": "-DeXKmcjLl89"
   },
   "source": [
    "# LBPH Face recognition"
   ]
  },
  {
   "cell_type": "markdown",
   "metadata": {
    "id": "w8zOtNhKLp-Z"
   },
   "source": [
    "### Loading the dataset\n",
    "\n",
    "- Yale faces database: http://vision.ucsd.edu/content/yale-face-database"
   ]
  },
  {
   "cell_type": "code",
   "execution_count": 22,
   "metadata": {
    "colab": {
     "base_uri": "https://localhost:8080/"
    },
    "id": "Ta2EHPg1-0Gn",
    "outputId": "4e06c605-d2a6-49a0-d0d0-de6d59b1a1cc"
   },
   "outputs": [],
   "source": [
    "from sklearn.metrics import confusion_matrix, accuracy_score\n",
    "from IPython.display import display\n",
    "from PIL import Image\n",
    "import numpy as np\n",
    "import zipfile\n",
    "import seaborn\n",
    "import cv2\n",
    "import os"
   ]
  },
  {
   "cell_type": "code",
   "execution_count": 2,
   "metadata": {
    "id": "fM29c2T7_e5V"
   },
   "outputs": [],
   "source": [
    "path = '../material/Datasets/yalefaces.zip'\n",
    "zip_object = zipfile.ZipFile(file=path, mode = 'r')\n",
    "zip_object.extractall('./')\n",
    "zip_object.close()"
   ]
  },
  {
   "cell_type": "markdown",
   "metadata": {
    "id": "2k3yuCEM06FJ"
   },
   "source": [
    "### Pre-processing the images"
   ]
  },
  {
   "cell_type": "code",
   "execution_count": 3,
   "metadata": {
    "id": "T_6MUlv2Cfvg"
   },
   "outputs": [],
   "source": [
    "def get_image_data():\n",
    "    paths = [os.path.join('./yalefaces/train', f) for f in os.listdir('./yalefaces/train')]\n",
    "    faces = []\n",
    "    ids = []\n",
    "    for path in paths:\n",
    "        image = Image.open(path).convert('L')\n",
    "        image_np = np.array(image, 'uint8')\n",
    "        id = int(os.path.split(path)[1].split('.')[0].replace('subject', ''))\n",
    "        ids.append(id)\n",
    "        faces.append(image_np)\n",
    "        \n",
    "    return np.array(ids), faces"
   ]
  },
  {
   "cell_type": "code",
   "execution_count": 4,
   "metadata": {
    "id": "7kjNb0PaC6-2"
   },
   "outputs": [],
   "source": [
    "ids, faces = get_image_data()"
   ]
  },
  {
   "cell_type": "code",
   "execution_count": 5,
   "metadata": {
    "colab": {
     "base_uri": "https://localhost:8080/"
    },
    "id": "Q1SKHBy2GFzl",
    "outputId": "ddd2838c-c60e-411f-81de-b7f8fefe9cf3"
   },
   "outputs": [
    {
     "data": {
      "text/plain": [
       "array([ 8,  9,  2, 15,  6, 11,  3,  5, 14, 15,  2,  6, 13,  6, 10,  9,  2,\n",
       "        3, 11, 14,  1,  8, 14, 12, 13, 11,  2, 12, 15, 14,  8, 12,  5,  7,\n",
       "        7,  1, 13, 10,  5,  6, 11, 14, 15,  2,  2,  4,  7, 12, 13,  2, 14,\n",
       "       13,  1, 11,  3,  7,  8, 12,  8,  8, 12,  8,  5,  4,  2,  1,  4, 11,\n",
       "        1,  9,  7, 11,  9, 14, 10,  6, 15,  3, 13,  4,  8,  1,  4,  9, 13,\n",
       "        4,  5,  3,  5,  1, 14,  1,  5, 10,  7,  8,  9, 13, 10, 15,  6,  7,\n",
       "        4,  7,  2,  5, 12, 12,  9,  1,  6, 15,  4,  3,  9, 13,  4, 11, 11,\n",
       "       10,  3, 10, 14,  6, 15, 10, 10, 15,  3,  7,  5, 12,  9,  3,  6])"
      ]
     },
     "execution_count": 5,
     "metadata": {},
     "output_type": "execute_result"
    }
   ],
   "source": [
    "ids"
   ]
  },
  {
   "cell_type": "code",
   "execution_count": 6,
   "metadata": {
    "colab": {
     "base_uri": "https://localhost:8080/"
    },
    "id": "MhlCn9pZGJJE",
    "outputId": "e1e57716-f260-4254-9a3d-adb0c7e6a03e"
   },
   "outputs": [
    {
     "data": {
      "text/plain": [
       "135"
      ]
     },
     "execution_count": 6,
     "metadata": {},
     "output_type": "execute_result"
    }
   ],
   "source": [
    "len(ids)"
   ]
  },
  {
   "cell_type": "code",
   "execution_count": 7,
   "metadata": {
    "colab": {
     "base_uri": "https://localhost:8080/"
    },
    "id": "hUjgMXjmGb7d",
    "outputId": "a01afdf0-0d12-446f-801f-4e3913f59079"
   },
   "outputs": [
    {
     "data": {
      "text/plain": [
       "135"
      ]
     },
     "execution_count": 7,
     "metadata": {},
     "output_type": "execute_result"
    }
   ],
   "source": [
    "len(faces)"
   ]
  },
  {
   "cell_type": "code",
   "execution_count": 8,
   "metadata": {
    "colab": {
     "base_uri": "https://localhost:8080/"
    },
    "id": "LvF2_Tv_GMBH",
    "outputId": "b5077b69-8e21-46c0-e471-45b55b835d78"
   },
   "outputs": [
    {
     "data": {
      "text/plain": [
       "(array([[130, 130, 130, ..., 255, 255, 255],\n",
       "        [255, 255, 255, ..., 255, 255, 255],\n",
       "        [255, 255, 255, ..., 255, 255, 255],\n",
       "        ...,\n",
       "        [255, 255, 255, ..., 246, 221, 213],\n",
       "        [255, 255, 255, ..., 248, 215, 201],\n",
       "        [ 68,  68,  68, ...,  68,  68,  68]], dtype=uint8),\n",
       " (243, 320))"
      ]
     },
     "execution_count": 8,
     "metadata": {},
     "output_type": "execute_result"
    }
   ],
   "source": [
    "faces[0], faces[0].shape"
   ]
  },
  {
   "cell_type": "markdown",
   "metadata": {
    "id": "ZRuJuHRLvcmW"
   },
   "source": [
    "### Training the LBPH classifier"
   ]
  },
  {
   "cell_type": "code",
   "execution_count": 9,
   "metadata": {
    "id": "XTHLAAnTLBfY"
   },
   "outputs": [],
   "source": [
    "# threshold: 1.7976931348623157e+308\n",
    "# radius: 1\n",
    "# neighbors: 8\n",
    "# grid_x: 8\n",
    "# grid_y: 8\n",
    "\n",
    "lbph_classifier = cv2.face.LBPHFaceRecognizer_create(radius = 4, neighbors=14, grid_x = 9, grid_y = 9)\n",
    "lbph_classifier.train(faces, ids)\n",
    "lbph_classifier.write('lbph_classifier.yml')"
   ]
  },
  {
   "cell_type": "markdown",
   "metadata": {
    "id": "37itAmjd1AGm"
   },
   "source": [
    "### Recognizing faces"
   ]
  },
  {
   "cell_type": "code",
   "execution_count": 10,
   "metadata": {
    "id": "tQ3srgyaMeUs"
   },
   "outputs": [],
   "source": [
    "lbph_face_classifier = cv2.face.LBPHFaceRecognizer_create()\n",
    "lbph_face_classifier.read('lbph_classifier.yml')"
   ]
  },
  {
   "cell_type": "code",
   "execution_count": 11,
   "metadata": {
    "id": "xUcev8JwMyrx"
   },
   "outputs": [],
   "source": [
    "test_image = './yalefaces/test/subject10.sad.gif'"
   ]
  },
  {
   "cell_type": "code",
   "execution_count": 12,
   "metadata": {
    "colab": {
     "base_uri": "https://localhost:8080/"
    },
    "id": "zxNNQ6-WM_Ld",
    "outputId": "d79efab0-c036-47e7-b62b-481cdccdf508"
   },
   "outputs": [
    {
     "data": {
      "text/plain": [
       "array([[130, 130, 130, ..., 255, 255, 255],\n",
       "       [255, 255, 255, ..., 255, 255, 255],\n",
       "       [255, 255, 255, ..., 255, 255, 255],\n",
       "       ...,\n",
       "       [255, 255, 255, ..., 241, 255, 255],\n",
       "       [255, 255, 255, ..., 234, 237, 252],\n",
       "       [ 68,  68,  68, ...,  68,  68,  68]], dtype=uint8)"
      ]
     },
     "execution_count": 12,
     "metadata": {},
     "output_type": "execute_result"
    }
   ],
   "source": [
    "image = Image.open(test_image).convert('L')\n",
    "image_np = np.array(image, 'uint8')\n",
    "image_np"
   ]
  },
  {
   "cell_type": "code",
   "execution_count": 13,
   "metadata": {
    "colab": {
     "base_uri": "https://localhost:8080/"
    },
    "id": "PUGkF1Q4Ninp",
    "outputId": "0f314cf0-9ee2-4c56-b4c8-96d1ffbacb9f"
   },
   "outputs": [
    {
     "data": {
      "text/plain": [
       "(243, 320)"
      ]
     },
     "execution_count": 13,
     "metadata": {},
     "output_type": "execute_result"
    }
   ],
   "source": [
    "image_np.shape"
   ]
  },
  {
   "cell_type": "code",
   "execution_count": 14,
   "metadata": {
    "colab": {
     "base_uri": "https://localhost:8080/"
    },
    "id": "Ut_l-QSNNn7t",
    "outputId": "d362a102-30c4-443a-9ee1-a69714d8baf4"
   },
   "outputs": [
    {
     "data": {
      "text/plain": [
       "(10, 36.84750735484425)"
      ]
     },
     "execution_count": 14,
     "metadata": {},
     "output_type": "execute_result"
    }
   ],
   "source": [
    "prediction = lbph_face_classifier.predict(image_np)\n",
    "prediction"
   ]
  },
  {
   "cell_type": "code",
   "execution_count": 15,
   "metadata": {
    "colab": {
     "base_uri": "https://localhost:8080/"
    },
    "id": "Fb9T5wF2N71g",
    "outputId": "3bae3cc2-6ae6-4c76-a382-c878cdf4fcf0"
   },
   "outputs": [
    {
     "data": {
      "text/plain": [
       "10"
      ]
     },
     "execution_count": 15,
     "metadata": {},
     "output_type": "execute_result"
    }
   ],
   "source": [
    "expected_output = int(os.path.split(test_image)[1].split('.')[0].replace('subject', ''))\n",
    "expected_output"
   ]
  },
  {
   "cell_type": "code",
   "execution_count": 16,
   "metadata": {
    "colab": {
     "base_uri": "https://localhost:8080/",
     "height": 280
    },
    "id": "IcN3jt5UOUJ9",
    "outputId": "963ea143-d548-4cbc-b413-7da8b873c4f1"
   },
   "outputs": [
    {
     "data": {
      "image/png": "[encoded data removed]",
      "text/plain": [
       "<PIL.Image.Image image mode=L size=320x243 at 0x113937400>"
      ]
     },
     "metadata": {},
     "output_type": "display_data"
    }
   ],
   "source": [
    "cv2.putText(image_np, 'Pred: ' + str(prediction[0]), (10, 30), cv2.FONT_HERSHEY_COMPLEX_SMALL, 1, (0,255,0))\n",
    "cv2.putText(image_np, 'Exp: ' + str(expected_output), (10, 50), cv2.FONT_HERSHEY_COMPLEX_SMALL, 1, (0,255,0))\n",
    "\n",
    "display(Image.fromarray(image_np))"
   ]
  },
  {
   "cell_type": "markdown",
   "metadata": {
    "id": "0eyUv8l00oAt"
   },
   "source": [
    "### Evaluating the face classifier"
   ]
  },
  {
   "cell_type": "code",
   "execution_count": 17,
   "metadata": {
    "id": "nJcCdWm7P33p"
   },
   "outputs": [],
   "source": [
    "paths = [os.path.join('./yalefaces/test', f) for f in os.listdir('./yalefaces/test')]\n",
    "predictions = []\n",
    "expected_outputs = []\n",
    "for path in paths:\n",
    "    image = Image.open(path).convert('L')\n",
    "    image_np = np.array(image, 'uint8')\n",
    "    prediction, _ = lbph_face_classifier.predict(image_np)\n",
    "    expected_output = int(os.path.split(path)[1].split('.')[0].replace('subject', '')) \n",
    "    predictions.append(prediction)\n",
    "    expected_outputs.append(expected_output)"
   ]
  },
  {
   "cell_type": "code",
   "execution_count": 18,
   "metadata": {
    "id": "jOT1AMkhRBmV"
   },
   "outputs": [],
   "source": [
    "predictions = np.array(predictions)\n",
    "expected_outputs = np.array(expected_outputs)"
   ]
  },
  {
   "cell_type": "code",
   "execution_count": 19,
   "metadata": {
    "colab": {
     "base_uri": "https://localhost:8080/"
    },
    "id": "YVQgB2ScRLmx",
    "outputId": "f8d06c3b-4550-4079-fa4f-df53dc87530a"
   },
   "outputs": [
    {
     "data": {
      "text/plain": [
       "array([13,  1,  3,  9,  7,  8,  4, 14,  7,  4,  7,  4,  5, 12,  4,  9, 13,\n",
       "       10, 11,  6,  5,  4,  4, 14, 11, 15,  3, 12, 14, 12])"
      ]
     },
     "execution_count": 19,
     "metadata": {},
     "output_type": "execute_result"
    }
   ],
   "source": [
    "predictions"
   ]
  },
  {
   "cell_type": "code",
   "execution_count": 20,
   "metadata": {
    "colab": {
     "base_uri": "https://localhost:8080/"
    },
    "id": "T8PhkMhxRSDv",
    "outputId": "44aa9b58-2f05-4491-bf47-e4711efb0ee3"
   },
   "outputs": [
    {
     "data": {
      "text/plain": [
       "array([13,  1,  3,  7,  9,  8, 10, 14, 15,  8,  7,  1,  5, 12,  4,  9, 13,\n",
       "       10, 11,  6,  5,  2,  4, 14, 11, 15,  3, 12,  6,  2])"
      ]
     },
     "execution_count": 20,
     "metadata": {},
     "output_type": "execute_result"
    }
   ],
   "source": [
    "expected_outputs"
   ]
  },
  {
   "cell_type": "code",
   "execution_count": 21,
   "metadata": {
    "colab": {
     "base_uri": "https://localhost:8080/"
    },
    "id": "brDGncBPRjKf",
    "outputId": "341a46df-8133-4a2f-85da-72b7619ce92e"
   },
   "outputs": [
    {
     "data": {
      "text/plain": [
       "0.7"
      ]
     },
     "execution_count": 21,
     "metadata": {},
     "output_type": "execute_result"
    }
   ],
   "source": [
    "accuracy_score(expected_outputs, predictions)"
   ]
  },
  {
   "cell_type": "code",
   "execution_count": 23,
   "metadata": {
    "colab": {
     "base_uri": "https://localhost:8080/"
    },
    "id": "Pywl22gASMPh",
    "outputId": "0e04e16d-851d-4116-b734-dabaea70aceb"
   },
   "outputs": [
    {
     "data": {
      "image/png": "[encoded data removed]",
      "text/plain": [
       "<Figure size 432x288 with 2 Axes>"
      ]
     },
     "metadata": {
      "needs_background": "light"
     },
     "output_type": "display_data"
    }
   ],
   "source": [
    "cm = confusion_matrix(expected_outputs, predictions)\n",
    "seaborn.heatmap(cm, annot=True);"
   ]
  },
  {
   "cell_type": "markdown",
   "metadata": {
    "id": "Vw1aTLB6SdP2"
   },
   "source": [
    "## Dlib"
   ]
  }
 ],
 "metadata": {
  "accelerator": "GPU",
  "colab": {
   "collapsed_sections": [],
   "name": "Computer Vision Masterclass - Face recognition.ipynb",
   "provenance": []
  },
  "kernelspec": {
   "display_name": "Python 3",
   "language": "python",
   "name": "python3"
  },
  "language_info": {
   "codemirror_mode": {
    "name": "ipython",
    "version": 3
   },
   "file_extension": ".py",
   "mimetype": "text/x-python",
   "name": "python",
   "nbconvert_exporter": "python",
   "pygments_lexer": "ipython3",
   "version": "3.8.2"
  }
 },
 "nbformat": 4,
 "nbformat_minor": 4
}
