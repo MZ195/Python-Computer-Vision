{
 "cells": [
  {
   "cell_type": "markdown",
   "metadata": {
    "id": "Sd_h453YseEx"
   },
   "source": [
    "# Neural network for image classification - cats and dogs"
   ]
  },
  {
   "cell_type": "markdown",
   "metadata": {
    "id": "NMc-ovSUNUnI"
   },
   "source": [
    "## Approach 1 - extract all the pixels"
   ]
  },
  {
   "cell_type": "markdown",
   "metadata": {
    "id": "nA9a2AFmsiFJ"
   },
   "source": [
    "### Importing the libraries"
   ]
  },
  {
   "cell_type": "code",
   "execution_count": 1,
   "metadata": {
    "colab": {
     "base_uri": "https://localhost:8080/",
     "height": 57
    },
    "id": "GFTBW79STIEY",
    "outputId": "dd9e6370-3597-48ee-c11e-9a329d7e9b12"
   },
   "outputs": [
    {
     "data": {
      "text/plain": [
       "'2.5.0'"
      ]
     },
     "execution_count": 1,
     "metadata": {},
     "output_type": "execute_result"
    }
   ],
   "source": [
    "import cv2\n",
    "import numpy as np\n",
    "import os\n",
    "import zipfile\n",
    "import tensorflow as tf\n",
    "from keras.models import save_model\n",
    "import pandas as pd\n",
    "import seaborn as sns\n",
    "import matplotlib.pyplot as plt\n",
    "from IPython.display import display\n",
    "from PIL import Image\n",
    "from sklearn.preprocessing import MinMaxScaler\n",
    "from sklearn.model_selection import train_test_split\n",
    "from sklearn.metrics import accuracy_score, confusion_matrix, classification_report\n",
    "tf.__version__"
   ]
  },
  {
   "cell_type": "markdown",
   "metadata": {
    "id": "lW1ZuebL-Vm8"
   },
   "source": [
    "### Extracting pixels from images"
   ]
  },
  {
   "cell_type": "code",
   "execution_count": 2,
   "metadata": {
    "id": "ZujocpAoW6x5"
   },
   "outputs": [],
   "source": [
    "directory_train = './cat_dog_1/train'\n",
    "directory_test = './cat_dog_1/test'\n",
    "files_train = [os.path.join(directory_train, f) for f in sorted(os.listdir(directory_train))]\n",
    "files_test = [os.path.join(directory_test, f) for f in sorted(os.listdir(directory_test))]"
   ]
  },
  {
   "cell_type": "code",
   "execution_count": 3,
   "metadata": {
    "id": "KFshwyM3X2mn"
   },
   "outputs": [],
   "source": [
    "height, width = 128, 128"
   ]
  },
  {
   "cell_type": "markdown",
   "metadata": {
    "id": "i_JyvsGn8nVJ"
   },
   "source": [
    "#### Train"
   ]
  },
  {
   "cell_type": "code",
   "execution_count": 6,
   "metadata": {
    "colab": {
     "base_uri": "https://localhost:8080/",
     "height": 1000
    },
    "id": "4suiubxKaFZn",
    "outputId": "f98cb1d3-779d-455f-ed86-1ca9c3f54554"
   },
   "outputs": [],
   "source": [
    "images = []\n",
    "classes = []\n",
    "for image_path in files_train:\n",
    "    try:\n",
    "        image = cv2.imread(image_path)\n",
    "        (H, W) = image.shape[:2]\n",
    "    except:\n",
    "        continue\n",
    "\n",
    "    image = cv2.resize(image, (width, height))\n",
    "    image = cv2.cvtColor(image, cv2.COLOR_BGR2GRAY)\n",
    "\n",
    "#     display(Image.fromarray(image))\n",
    "\n",
    "    image = image.ravel()\n",
    "\n",
    "    images.append(image)\n",
    "\n",
    "    image_name = os.path.basename(os.path.normpath(image_path))\n",
    "    if image_name.startswith('c'):\n",
    "        # Cat\n",
    "        class_name = 0\n",
    "    else:\n",
    "        # Dog\n",
    "        class_name = 1\n",
    "\n",
    "    classes.append(class_name)"
   ]
  },
  {
   "cell_type": "code",
   "execution_count": 7,
   "metadata": {
    "id": "bqt0SBHam4Ld"
   },
   "outputs": [],
   "source": [
    "X_train = np.asarray(images)\n",
    "y_train = np.asarray(classes)"
   ]
  },
  {
   "cell_type": "code",
   "execution_count": 8,
   "metadata": {
    "colab": {
     "base_uri": "https://localhost:8080/"
    },
    "id": "sp54zFz0nUJC",
    "outputId": "3c685b51-2d51-4c65-cce0-3f7061d68c4d"
   },
   "outputs": [
    {
     "data": {
      "text/plain": [
       "(4000, 16384)"
      ]
     },
     "execution_count": 8,
     "metadata": {},
     "output_type": "execute_result"
    }
   ],
   "source": [
    "X_train.shape"
   ]
  },
  {
   "cell_type": "code",
   "execution_count": 9,
   "metadata": {
    "colab": {
     "base_uri": "https://localhost:8080/"
    },
    "id": "g4mHg97Kn49z",
    "outputId": "5054eecb-cc61-4159-9a85-69beb097d465"
   },
   "outputs": [
    {
     "data": {
      "text/plain": [
       "(4000,)"
      ]
     },
     "execution_count": 9,
     "metadata": {},
     "output_type": "execute_result"
    }
   ],
   "source": [
    "y_train.shape"
   ]
  },
  {
   "cell_type": "markdown",
   "metadata": {
    "id": "MhpQO_3M86TS"
   },
   "source": [
    "#### Test"
   ]
  },
  {
   "cell_type": "code",
   "execution_count": 10,
   "metadata": {
    "colab": {
     "base_uri": "https://localhost:8080/",
     "height": 1000
    },
    "id": "Eard-X-t87gq",
    "outputId": "2e1c11df-6c21-4562-be3a-d412684914bd"
   },
   "outputs": [],
   "source": [
    "images = []\n",
    "classes = []\n",
    "for image_path in files_test:\n",
    "    try:\n",
    "        image = cv2.imread(image_path)\n",
    "        (H, W) = image.shape[:2]\n",
    "    except:\n",
    "        continue\n",
    "\n",
    "    image = cv2.resize(image, (width, height))\n",
    "    image = cv2.cvtColor(image, cv2.COLOR_BGR2GRAY)\n",
    "\n",
    "    image = image.ravel()\n",
    "\n",
    "    images.append(image)\n",
    "\n",
    "    image_name = os.path.basename(os.path.normpath(image_path))\n",
    "    if image_name.startswith('c'):\n",
    "        # Cat\n",
    "        class_name = 0\n",
    "    else:\n",
    "        # Dog\n",
    "        class_name = 1\n",
    "\n",
    "    classes.append(class_name)"
   ]
  },
  {
   "cell_type": "code",
   "execution_count": 11,
   "metadata": {
    "id": "TuGKoTQS-drv"
   },
   "outputs": [],
   "source": [
    "X_test = np.asarray(images)\n",
    "y_test = np.asarray(classes)"
   ]
  },
  {
   "cell_type": "code",
   "execution_count": 12,
   "metadata": {
    "colab": {
     "base_uri": "https://localhost:8080/"
    },
    "id": "02JbTCmO-gU2",
    "outputId": "c3fdcf2d-96be-424c-87fc-52a84f0539f7"
   },
   "outputs": [
    {
     "data": {
      "text/plain": [
       "((1000, 16384), (1000,))"
      ]
     },
     "execution_count": 12,
     "metadata": {},
     "output_type": "execute_result"
    }
   ],
   "source": [
    "X_test.shape, y_test.shape"
   ]
  },
  {
   "cell_type": "markdown",
   "metadata": {
    "id": "R0L0KqcGBs_c"
   },
   "source": [
    "### Normalizing the data"
   ]
  },
  {
   "cell_type": "code",
   "execution_count": 13,
   "metadata": {
    "colab": {
     "base_uri": "https://localhost:8080/"
    },
    "id": "-ssFm4xUpTpC",
    "outputId": "b25171a3-f4e0-4270-ae0c-ab1197199541"
   },
   "outputs": [
    {
     "data": {
      "text/plain": [
       "(236, 1)"
      ]
     },
     "execution_count": 13,
     "metadata": {},
     "output_type": "execute_result"
    }
   ],
   "source": [
    "X_train[0].max(), X_train[0].min()"
   ]
  },
  {
   "cell_type": "code",
   "execution_count": 14,
   "metadata": {
    "id": "9e4Me4nUqEHd"
   },
   "outputs": [],
   "source": [
    "scaler = MinMaxScaler()\n",
    "X_train = scaler.fit_transform(X_train)\n",
    "X_test = scaler.transform(X_test)"
   ]
  },
  {
   "cell_type": "code",
   "execution_count": 15,
   "metadata": {
    "colab": {
     "base_uri": "https://localhost:8080/"
    },
    "id": "gWVmAIYrqQJg",
    "outputId": "185a528f-1b03-4761-9c3f-24740d6de7c1"
   },
   "outputs": [
    {
     "data": {
      "text/plain": [
       "(0.9254901960784314, 0.0)"
      ]
     },
     "execution_count": 15,
     "metadata": {},
     "output_type": "execute_result"
    }
   ],
   "source": [
    "X_train[0].max(), X_train[0].min()"
   ]
  },
  {
   "cell_type": "code",
   "execution_count": 16,
   "metadata": {
    "colab": {
     "base_uri": "https://localhost:8080/"
    },
    "id": "RMk49JV4-8kC",
    "outputId": "637c8dc6-56f5-4a8c-83ce-be118887a694"
   },
   "outputs": [
    {
     "data": {
      "text/plain": [
       "(1.0, -0.003937007874015748)"
      ]
     },
     "execution_count": 16,
     "metadata": {},
     "output_type": "execute_result"
    }
   ],
   "source": [
    "X_test[0].max(), X_test[0].min()"
   ]
  },
  {
   "cell_type": "markdown",
   "metadata": {
    "id": "c_8D8Q-5NR7z"
   },
   "source": [
    "### Building and training the neural network"
   ]
  },
  {
   "cell_type": "code",
   "execution_count": null,
   "metadata": {
    "colab": {
     "base_uri": "https://localhost:8080/"
    },
    "id": "gV1mN8IOzQCz",
    "outputId": "5da89632-5482-48dc-e9c5-3f33a7199e08"
   },
   "outputs": [
    {
     "data": {
      "text/plain": [
       "8193.0"
      ]
     },
     "execution_count": 21,
     "metadata": {
      "tags": []
     },
     "output_type": "execute_result"
    }
   ],
   "source": [
    "(16384 + 2) / 2"
   ]
  },
  {
   "cell_type": "code",
   "execution_count": 17,
   "metadata": {
    "id": "H57NM0bHyikx"
   },
   "outputs": [],
   "source": [
    "# 16384 -> 8193 -> 8193 -> 1\n",
    "network1 = tf.keras.models.Sequential()\n",
    "network1.add(tf.keras.layers.Dense(input_shape=(16384,), units=8193, activation='relu'))\n",
    "network1.add(tf.keras.layers.Dense(units=8193, activation = 'relu'))\n",
    "network1.add(tf.keras.layers.Dense(units = 1, activation = 'sigmoid'))"
   ]
  },
  {
   "cell_type": "code",
   "execution_count": 18,
   "metadata": {
    "colab": {
     "base_uri": "https://localhost:8080/"
    },
    "id": "25-6KI9p02FU",
    "outputId": "07fc0917-2c65-4614-9493-76b153065d88"
   },
   "outputs": [
    {
     "name": "stdout",
     "output_type": "stream",
     "text": [
      "Model: \"sequential\"\n",
      "_________________________________________________________________\n",
      "Layer (type)                 Output Shape              Param #   \n",
      "=================================================================\n",
      "dense (Dense)                (None, 8193)              134242305 \n",
      "_________________________________________________________________\n",
      "dense_1 (Dense)              (None, 8193)              67133442  \n",
      "_________________________________________________________________\n",
      "dense_2 (Dense)              (None, 1)                 8194      \n",
      "=================================================================\n",
      "Total params: 201,383,941\n",
      "Trainable params: 201,383,941\n",
      "Non-trainable params: 0\n",
      "_________________________________________________________________\n"
     ]
    }
   ],
   "source": [
    "network1.summary()"
   ]
  },
  {
   "cell_type": "code",
   "execution_count": 19,
   "metadata": {
    "id": "irg12cX11DmD"
   },
   "outputs": [],
   "source": [
    "# https://keras.io/api/optimizers/\n",
    "# https://keras.io/api/losses/\n",
    "network1.compile(optimizer='Adam', loss='binary_crossentropy', metrics = ['accuracy'])"
   ]
  },
  {
   "cell_type": "code",
   "execution_count": 21,
   "metadata": {
    "colab": {
     "base_uri": "https://localhost:8080/"
    },
    "id": "ngcz4Mw_1pLL",
    "outputId": "fee3330a-b1dc-49eb-ea90-da86115f1285"
   },
   "outputs": [
    {
     "name": "stdout",
     "output_type": "stream",
     "text": [
      "Epoch 1/10\n",
      "125/125 [==============================] - 64s 512ms/step - loss: 0.6931 - accuracy: 0.4908\n",
      "Epoch 2/10\n",
      "125/125 [==============================] - 64s 515ms/step - loss: 0.6933 - accuracy: 0.5002\n",
      "Epoch 3/10\n",
      "125/125 [==============================] - 64s 510ms/step - loss: 0.6932 - accuracy: 0.5000\n",
      "Epoch 4/10\n",
      "125/125 [==============================] - 66s 528ms/step - loss: 0.6932 - accuracy: 0.4958\n",
      "Epoch 5/10\n",
      "125/125 [==============================] - 65s 517ms/step - loss: 0.6932 - accuracy: 0.5002\n",
      "Epoch 6/10\n",
      "125/125 [==============================] - 64s 515ms/step - loss: 0.6932 - accuracy: 0.4868\n",
      "Epoch 7/10\n",
      "125/125 [==============================] - 64s 515ms/step - loss: 0.6933 - accuracy: 0.5000\n",
      "Epoch 8/10\n",
      "125/125 [==============================] - 65s 521ms/step - loss: 0.6933 - accuracy: 0.4857\n",
      "Epoch 9/10\n",
      "125/125 [==============================] - 63s 506ms/step - loss: 0.6932 - accuracy: 0.4810\n",
      "Epoch 10/10\n",
      "125/125 [==============================] - 61s 486ms/step - loss: 0.6932 - accuracy: 0.4970\n"
     ]
    }
   ],
   "source": [
    "history = network1.fit(X_train, y_train, epochs=10)"
   ]
  },
  {
   "cell_type": "markdown",
   "metadata": {
    "id": "48crjefERiK8"
   },
   "source": [
    "### Evaluating the neural network"
   ]
  },
  {
   "cell_type": "code",
   "execution_count": 22,
   "metadata": {
    "colab": {
     "base_uri": "https://localhost:8080/",
     "height": 285
    },
    "id": "V7AKGPka4bKZ",
    "outputId": "edc86447-71e5-42c5-b60b-1bce49685ca0"
   },
   "outputs": [
    {
     "data": {
      "image/png": "[encoded data removed]",
      "text/plain": [
       "<Figure size 432x288 with 1 Axes>"
      ]
     },
     "metadata": {
      "needs_background": "light"
     },
     "output_type": "display_data"
    }
   ],
   "source": [
    "plt.plot(history.history['loss']);"
   ]
  },
  {
   "cell_type": "code",
   "execution_count": 23,
   "metadata": {
    "colab": {
     "base_uri": "https://localhost:8080/",
     "height": 285
    },
    "id": "CEJNeGV54-DW",
    "outputId": "a96b5de7-6e72-40a6-e19a-ac38b316b121"
   },
   "outputs": [
    {
     "data": {
      "image/png": "[encoded data removed]",
      "text/plain": [
       "<Figure size 432x288 with 1 Axes>"
      ]
     },
     "metadata": {
      "needs_background": "light"
     },
     "output_type": "display_data"
    }
   ],
   "source": [
    "plt.plot(history.history['accuracy']);"
   ]
  },
  {
   "cell_type": "code",
   "execution_count": 24,
   "metadata": {
    "colab": {
     "base_uri": "https://localhost:8080/"
    },
    "id": "0JwKmxDK5HL1",
    "outputId": "84135951-d391-4b10-ff08-c5adadb40d88"
   },
   "outputs": [
    {
     "data": {
      "text/plain": [
       "(1000, 16384)"
      ]
     },
     "execution_count": 24,
     "metadata": {},
     "output_type": "execute_result"
    }
   ],
   "source": [
    "X_test.shape"
   ]
  },
  {
   "cell_type": "code",
   "execution_count": 25,
   "metadata": {
    "colab": {
     "base_uri": "https://localhost:8080/"
    },
    "id": "cngX7KFi5QaU",
    "outputId": "e4965152-f411-4470-e3a8-59cacd849a3e",
    "tags": []
   },
   "outputs": [],
   "source": [
    "predictions = network1.predict(X_test)"
   ]
  },
  {
   "cell_type": "code",
   "execution_count": 26,
   "metadata": {
    "colab": {
     "base_uri": "https://localhost:8080/"
    },
    "id": "Y9wQd80r50wc",
    "outputId": "c1ea669a-7f9f-4c15-b09a-9e78b8fea435",
    "tags": []
   },
   "outputs": [],
   "source": [
    "predictions = (predictions > 0.5)"
   ]
  },
  {
   "cell_type": "code",
   "execution_count": 27,
   "metadata": {
    "colab": {
     "base_uri": "https://localhost:8080/"
    },
    "id": "QpW5mjb36htq",
    "outputId": "4a5d4f67-1dd0-4785-91d3-b0f30a28e5f5"
   },
   "outputs": [
    {
     "data": {
      "text/plain": [
       "0.501"
      ]
     },
     "execution_count": 27,
     "metadata": {},
     "output_type": "execute_result"
    }
   ],
   "source": [
    "accuracy_score(y_test, predictions)"
   ]
  },
  {
   "cell_type": "code",
   "execution_count": 28,
   "metadata": {
    "colab": {
     "base_uri": "https://localhost:8080/"
    },
    "id": "8ejKCrBT6-ta",
    "outputId": "f69bd9ce-c865-44a8-cf7a-2283cd1637cf"
   },
   "outputs": [
    {
     "data": {
      "image/png": "[encoded data removed]",
      "text/plain": [
       "<Figure size 432x288 with 2 Axes>"
      ]
     },
     "metadata": {
      "needs_background": "light"
     },
     "output_type": "display_data"
    }
   ],
   "source": [
    "cm = confusion_matrix(y_test, predictions)\n",
    "sns.heatmap(cm, annot=True);"
   ]
  },
  {
   "cell_type": "code",
   "execution_count": 29,
   "metadata": {
    "colab": {
     "base_uri": "https://localhost:8080/"
    },
    "id": "yaxPTvBM7rKj",
    "outputId": "1548cc18-54ae-4bae-8cba-c5ab55fc1906"
   },
   "outputs": [
    {
     "name": "stdout",
     "output_type": "stream",
     "text": [
      "              precision    recall  f1-score   support\n",
      "\n",
      "           0       0.67      0.00      0.01       500\n",
      "           1       0.50      1.00      0.67       500\n",
      "\n",
      "    accuracy                           0.50      1000\n",
      "   macro avg       0.58      0.50      0.34      1000\n",
      "weighted avg       0.58      0.50      0.34      1000\n",
      "\n"
     ]
    }
   ],
   "source": [
    "print(classification_report(y_test, predictions))"
   ]
  }
 ],
 "metadata": {
  "colab": {
   "collapsed_sections": [
    "c_8D8Q-5NR7z",
    "48crjefERiK8"
   ],
   "name": "HOMERWORK Computer Vision Masterclass - Neural networks for image classification.ipynb",
   "provenance": []
  },
  "kernelspec": {
   "display_name": "Python 3",
   "language": "python",
   "name": "python3"
  },
  "language_info": {
   "codemirror_mode": {
    "name": "ipython",
    "version": 3
   },
   "file_extension": ".py",
   "mimetype": "text/x-python",
   "name": "python",
   "nbconvert_exporter": "python",
   "pygments_lexer": "ipython3",
   "version": "3.8.2"
  }
 },
 "nbformat": 4,
 "nbformat_minor": 4
}
